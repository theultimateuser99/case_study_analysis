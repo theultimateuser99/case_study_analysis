{
  "cells": [
    {
      "cell_type": "code",
      "execution_count": 1,
      "metadata": {
        "colab": {
          "base_uri": "https://localhost:8080/"
        },
        "id": "MyXvdhj1QROu",
        "outputId": "37ba049f-7574-4b3f-b273-dfa56c7f2872"
      },
      "outputs": [
        {
          "name": "stdout",
          "output_type": "stream",
          "text": [
            "Collecting pyspark\n",
            "  Downloading pyspark-3.5.0.tar.gz (316.9 MB)\n",
            "\u001b[2K     \u001b[90m━━━━━━━━━━━━━━━━━━━━━━━━━━━━━━━━━━━━━━━━\u001b[0m \u001b[32m316.9/316.9 MB\u001b[0m \u001b[31m2.7 MB/s\u001b[0m eta \u001b[36m0:00:00\u001b[0m\n",
            "\u001b[?25h  Preparing metadata (setup.py) ... \u001b[?25l\u001b[?25hdone\n",
            "Requirement already satisfied: py4j==0.10.9.7 in /usr/local/lib/python3.10/dist-packages (from pyspark) (0.10.9.7)\n",
            "Building wheels for collected packages: pyspark\n",
            "  Building wheel for pyspark (setup.py) ... \u001b[?25l\u001b[?25hdone\n",
            "  Created wheel for pyspark: filename=pyspark-3.5.0-py2.py3-none-any.whl size=317425345 sha256=25cb3194181bf6c3d34002fd8cdc75f6a071b8fa31ac3d705e1da8d46bda7a96\n",
            "  Stored in directory: /root/.cache/pip/wheels/41/4e/10/c2cf2467f71c678cfc8a6b9ac9241e5e44a01940da8fbb17fc\n",
            "Successfully built pyspark\n",
            "Installing collected packages: pyspark\n",
            "Successfully installed pyspark-3.5.0\n"
          ]
        }
      ],
      "source": [
        "!pip install pyspark"
      ]
    },
    {
      "cell_type": "code",
      "execution_count": 2,
      "metadata": {
        "id": "WR6QzB_48-f7"
      },
      "outputs": [],
      "source": [
        "from pyspark.sql import SparkSession, Window\n",
        "from pyspark.sql.functions import *"
      ]
    },
    {
      "cell_type": "code",
      "execution_count": 3,
      "metadata": {
        "id": "Y4ahMAdGgsuV"
      },
      "outputs": [],
      "source": [
        "spark = SparkSession.builder.appName(\"case_study_eda\").master(\"local[*]\").getOrCreate()"
      ]
    },
    {
      "cell_type": "code",
      "execution_count": 5,
      "metadata": {
        "id": "h-cB0OBgg5xs"
      },
      "outputs": [],
      "source": [
        "data_source_path = 'data/Data/'\n",
        "df_charge = spark.read.csv(data_source_path+\"Charges_use.csv\", header=True, inferSchema=True)\n",
        "df_damage = spark.read.csv(data_source_path+\"Damages_use.csv\", header=True, inferSchema=True)\n",
        "df_endorse = spark.read.csv(data_source_path+\"Endorse_use.csv\", header=True, inferSchema=True)\n",
        "df_person = spark.read.csv(data_source_path+\"Primary_Person_use.csv\", header=True, inferSchema=True)\n",
        "df_restrict = spark.read.csv(data_source_path+\"Restrict_use.csv\", header=True, inferSchema=True)\n",
        "df_units = spark.read.csv(data_source_path+\"Units_use.csv\", header=True, inferSchema=True)"
      ]
    },
    {
      "cell_type": "markdown",
      "metadata": {
        "id": "UUj-wNTPQROz"
      },
      "source": [
        "# Charge Table"
      ]
    },
    {
      "cell_type": "code",
      "execution_count": null,
      "metadata": {
        "colab": {
          "base_uri": "https://localhost:8080/"
        },
        "id": "2rxv3EuHiCJu",
        "outputId": "893fcd51-3616-4b06-fb1f-e9643a908243"
      },
      "outputs": [
        {
          "name": "stdout",
          "output_type": "stream",
          "text": [
            "+--------+--------+--------+--------------------+------------+\n",
            "|CRASH_ID|UNIT_NBR|PRSN_NBR|              CHARGE|CITATION_NBR|\n",
            "+--------+--------+--------+--------------------+------------+\n",
            "|14768622|       1|       1|DRIVING WHILE INT...|        NULL|\n",
            "|14838637|       1|       1|                 DWI|  1600000015|\n",
            "|14838641|       1|       1|RAN RED LIGHT SOL...|      L20440|\n",
            "|14838641|       2|       1|NO DRIVER'S LICEN...|      L23141|\n",
            "|14838668|       1|       1|DRIVING WHILE INT...|TX4IC50SRJD3|\n",
            "|14838669|       2|       1|     DWI W/BAC >.015| 2015-000006|\n",
            "|14838670|       1|       1|DRIVING WHILE INT...| 2016-000003|\n",
            "|14838685|       1|       1|FAILED TO DRIVE S...|   138434825|\n",
            "|14838693|       1|       1|DRIVING WHILE INT...|TX4IC60UKQND|\n",
            "|14838768|       2|       1|                 DWI|        NULL|\n",
            "+--------+--------+--------+--------------------+------------+\n",
            "only showing top 10 rows\n",
            "\n"
          ]
        }
      ],
      "source": [
        "df_charge.show(10)"
      ]
    },
    {
      "cell_type": "code",
      "execution_count": null,
      "metadata": {
        "id": "57MxgT32QRO0",
        "outputId": "b6eecff0-f3f4-4db0-afc6-37184fc83741"
      },
      "outputs": [
        {
          "name": "stdout",
          "output_type": "stream",
          "text": [
            "root\n",
            " |-- CRASH_ID: integer (nullable = true)\n",
            " |-- UNIT_NBR: integer (nullable = true)\n",
            " |-- PRSN_NBR: integer (nullable = true)\n",
            " |-- CHARGE: string (nullable = true)\n",
            " |-- CITATION_NBR: string (nullable = true)\n",
            "\n"
          ]
        }
      ],
      "source": [
        "df_charge.printSchema()"
      ]
    },
    {
      "cell_type": "code",
      "execution_count": 7,
      "metadata": {
        "colab": {
          "base_uri": "https://localhost:8080/"
        },
        "id": "ZNHR1lLGSmbF",
        "outputId": "1cbd0700-cb3a-466d-8eba-5183f2a896af"
      },
      "outputs": [
        {
          "data": {
            "text/plain": [
              "116110"
            ]
          },
          "execution_count": 7,
          "metadata": {},
          "output_type": "execute_result"
        }
      ],
      "source": [
        "df_charge.count()"
      ]
    },
    {
      "cell_type": "code",
      "execution_count": 8,
      "metadata": {
        "colab": {
          "base_uri": "https://localhost:8080/"
        },
        "id": "8ACtPVVKQRO0",
        "outputId": "e5c35ce6-6e5b-44d2-9bee-aa8c50e30367"
      },
      "outputs": [
        {
          "data": {
            "text/plain": [
              "93415"
            ]
          },
          "execution_count": 8,
          "metadata": {},
          "output_type": "execute_result"
        }
      ],
      "source": [
        "df_charge.select('crash_id','unit_nbr','prsn_nbr').distinct().count()"
      ]
    },
    {
      "cell_type": "code",
      "execution_count": 15,
      "metadata": {
        "colab": {
          "base_uri": "https://localhost:8080/"
        },
        "id": "3OskwQZxTJ9H",
        "outputId": "b3a85beb-777f-4eed-d502-ea176fbf3e5e"
      },
      "outputs": [
        {
          "data": {
            "text/plain": [
              "0"
            ]
          },
          "execution_count": 15,
          "metadata": {},
          "output_type": "execute_result"
        }
      ],
      "source": [
        "df_damage.where(col(\"crash_id\").isNull() | col(\"crash_id\").isin('NA')).count()"
      ]
    },
    {
      "cell_type": "markdown",
      "metadata": {
        "id": "5AR7MDlzQRO6"
      },
      "source": [
        "# Damage Table"
      ]
    },
    {
      "cell_type": "code",
      "execution_count": 9,
      "metadata": {
        "colab": {
          "base_uri": "https://localhost:8080/"
        },
        "id": "WsOmSkc4iHzt",
        "outputId": "278f9c20-3592-4ca6-9056-86c7656b6115"
      },
      "outputs": [
        {
          "name": "stdout",
          "output_type": "stream",
          "text": [
            "+--------+--------------------+\n",
            "|CRASH_ID|    DAMAGED_PROPERTY|\n",
            "+--------+--------------------+\n",
            "|14768622|             MAILBOX|\n",
            "|14768622|         YARD, GRASS|\n",
            "|14838668|           GUARDRAIL|\n",
            "|14838685|           ROAD SIGN|\n",
            "|14838693|        2009 MAZDA 3|\n",
            "|14838834|    CHAIN LINK FENCE|\n",
            "|14838841|WOODED POLE ON SO...|\n",
            "|14838842|CITY SIGN FOR TUR...|\n",
            "|14838877|    FENCE-CHAIN LINK|\n",
            "|14838977|LANDSCAPING AND M...|\n",
            "+--------+--------------------+\n",
            "only showing top 10 rows\n",
            "\n"
          ]
        }
      ],
      "source": [
        "df_damage.show(10)"
      ]
    },
    {
      "cell_type": "code",
      "execution_count": 18,
      "metadata": {
        "colab": {
          "base_uri": "https://localhost:8080/"
        },
        "id": "Vbj1tDXaQRO6",
        "outputId": "0c707eaf-83c3-4038-9b03-1e1fcc8cb64e"
      },
      "outputs": [
        {
          "name": "stdout",
          "output_type": "stream",
          "text": [
            "root\n",
            " |-- CRASH_ID: integer (nullable = true)\n",
            " |-- DAMAGED_PROPERTY: string (nullable = true)\n",
            "\n"
          ]
        }
      ],
      "source": [
        "df_damage.printSchema()"
      ]
    },
    {
      "cell_type": "code",
      "execution_count": 11,
      "metadata": {
        "colab": {
          "base_uri": "https://localhost:8080/"
        },
        "id": "Ym_26vhPQRO6",
        "outputId": "7f9f8bee-5709-4c2f-c56f-eaa96984c1e1"
      },
      "outputs": [
        {
          "data": {
            "text/plain": [
              "24950"
            ]
          },
          "execution_count": 11,
          "metadata": {},
          "output_type": "execute_result"
        }
      ],
      "source": [
        "df_damage.count()"
      ]
    },
    {
      "cell_type": "code",
      "execution_count": null,
      "metadata": {
        "id": "PEWea0ozQRO6",
        "outputId": "70264b6a-ce4c-413e-aebd-270081e20596"
      },
      "outputs": [
        {
          "data": {
            "text/plain": [
              "24950"
            ]
          },
          "execution_count": 33,
          "metadata": {},
          "output_type": "execute_result"
        }
      ],
      "source": [
        "df_damage.count()"
      ]
    },
    {
      "cell_type": "code",
      "execution_count": 12,
      "metadata": {
        "colab": {
          "base_uri": "https://localhost:8080/"
        },
        "id": "U9ZeiasyQRO7",
        "outputId": "c9ec0908-1051-4170-a85d-eb508bde6fb4"
      },
      "outputs": [
        {
          "data": {
            "text/plain": [
              "20887"
            ]
          },
          "execution_count": 12,
          "metadata": {},
          "output_type": "execute_result"
        }
      ],
      "source": [
        "df_damage.select('crash_id').distinct().count()"
      ]
    },
    {
      "cell_type": "code",
      "execution_count": 16,
      "metadata": {
        "colab": {
          "base_uri": "https://localhost:8080/"
        },
        "id": "vWWU4y1XQRO7",
        "outputId": "d2278d51-64a7-40d1-984b-60974417feb4"
      },
      "outputs": [
        {
          "data": {
            "text/plain": [
              "0"
            ]
          },
          "execution_count": 16,
          "metadata": {},
          "output_type": "execute_result"
        }
      ],
      "source": [
        "df_damage.where(col(\"crash_id\").isNull() | col(\"crash_id\").isin('NA')).count()"
      ]
    },
    {
      "cell_type": "markdown",
      "metadata": {
        "id": "ki4aw7QIQRO8"
      },
      "source": [
        "# Endorse Table"
      ]
    },
    {
      "cell_type": "code",
      "execution_count": 17,
      "metadata": {
        "colab": {
          "base_uri": "https://localhost:8080/"
        },
        "id": "prac0FGPiLmj",
        "outputId": "983fd611-3df1-4cfc-c920-ddc7a0a600b0"
      },
      "outputs": [
        {
          "name": "stdout",
          "output_type": "stream",
          "text": [
            "+--------+--------+------------------+\n",
            "|CRASH_ID|UNIT_NBR|DRVR_LIC_ENDORS_ID|\n",
            "+--------+--------+------------------+\n",
            "|14768622|       1|              NONE|\n",
            "|14838637|       1|              NONE|\n",
            "|14838637|       2|              NONE|\n",
            "|14838641|       1|              NONE|\n",
            "|14838641|       2|        UNLICENSED|\n",
            "|14838668|       1|              NONE|\n",
            "|14838669|       1|              NONE|\n",
            "|14838669|       2|              NONE|\n",
            "|14838670|       1|              NONE|\n",
            "|14838685|       1|        UNLICENSED|\n",
            "+--------+--------+------------------+\n",
            "only showing top 10 rows\n",
            "\n"
          ]
        }
      ],
      "source": [
        "df_endorse.show(10)"
      ]
    },
    {
      "cell_type": "code",
      "execution_count": 19,
      "metadata": {
        "colab": {
          "base_uri": "https://localhost:8080/"
        },
        "id": "E6FNwZqyQRO8",
        "outputId": "a373cb24-1c5c-497d-c40d-4544db1f6895"
      },
      "outputs": [
        {
          "name": "stdout",
          "output_type": "stream",
          "text": [
            "root\n",
            " |-- CRASH_ID: integer (nullable = true)\n",
            " |-- UNIT_NBR: integer (nullable = true)\n",
            " |-- DRVR_LIC_ENDORS_ID: string (nullable = true)\n",
            "\n"
          ]
        }
      ],
      "source": [
        "df_endorse.printSchema()"
      ]
    },
    {
      "cell_type": "code",
      "execution_count": 24,
      "metadata": {
        "colab": {
          "base_uri": "https://localhost:8080/"
        },
        "id": "RdlYGQtWQRO9",
        "outputId": "93c7891d-3f71-410d-debb-519827c2fdcf"
      },
      "outputs": [
        {
          "name": "stdout",
          "output_type": "stream",
          "text": [
            "+-------------------------------------+\n",
            "|drvr_lic_endors_id                   |\n",
            "+-------------------------------------+\n",
            "|SCHOOL BUS                           |\n",
            "|OTHER/OUT OF STATE                   |\n",
            "|UNKNOWN                              |\n",
            "|HAZARDOUS MATERIALS                  |\n",
            "|UNLICENSED                           |\n",
            "|TANK VEHICLE                         |\n",
            "|NONE                                 |\n",
            "|TANK VEHICLE WITH HAZARDOUS MATERIALS|\n",
            "|PASSENGER                            |\n",
            "|DOUBLE/TRIPLE TRAILER                |\n",
            "+-------------------------------------+\n",
            "\n"
          ]
        }
      ],
      "source": [
        "df_endorse.select('drvr_lic_endors_id').distinct().show(truncate=False)"
      ]
    },
    {
      "cell_type": "code",
      "execution_count": 25,
      "metadata": {
        "colab": {
          "base_uri": "https://localhost:8080/"
        },
        "id": "HBI_MvFVQRPA",
        "outputId": "d76d979e-fa7f-440d-f6c8-95b6c2dad083"
      },
      "outputs": [
        {
          "data": {
            "text/plain": [
              "159818"
            ]
          },
          "execution_count": 25,
          "metadata": {},
          "output_type": "execute_result"
        }
      ],
      "source": [
        "df_endorse.count()"
      ]
    },
    {
      "cell_type": "code",
      "execution_count": 21,
      "metadata": {
        "colab": {
          "base_uri": "https://localhost:8080/"
        },
        "id": "KMsflr43QRO-",
        "outputId": "1214991a-562c-4073-befd-322f3f31553c"
      },
      "outputs": [
        {
          "data": {
            "text/plain": [
              "156495"
            ]
          },
          "execution_count": 21,
          "metadata": {},
          "output_type": "execute_result"
        }
      ],
      "source": [
        "df_endorse.select('crash_id','unit_nbr').distinct().count()"
      ]
    },
    {
      "cell_type": "code",
      "execution_count": 23,
      "metadata": {
        "colab": {
          "base_uri": "https://localhost:8080/"
        },
        "id": "1f9xumnPQRO-",
        "outputId": "9920152b-a95f-4cd5-f26b-4f3e62f3de25"
      },
      "outputs": [
        {
          "data": {
            "text/plain": [
              "0"
            ]
          },
          "execution_count": 23,
          "metadata": {},
          "output_type": "execute_result"
        }
      ],
      "source": [
        "df_endorse.where(col(\"crash_id\").isNull() | col(\"crash_id\").isin('NA')).count()"
      ]
    },
    {
      "cell_type": "code",
      "execution_count": 31,
      "metadata": {
        "colab": {
          "base_uri": "https://localhost:8080/"
        },
        "id": "1OyrRQkyQRPA",
        "outputId": "3cf99ea6-335d-4a18-9215-490ee2ca2ed6"
      },
      "outputs": [
        {
          "name": "stdout",
          "output_type": "stream",
          "text": [
            "+--------+\n",
            "|unit_nbr|\n",
            "+--------+\n",
            "|      14|\n",
            "|      13|\n",
            "|      12|\n",
            "|      11|\n",
            "|      10|\n",
            "|       9|\n",
            "|       8|\n",
            "|       7|\n",
            "|       6|\n",
            "|       5|\n",
            "|       4|\n",
            "|       3|\n",
            "|       2|\n",
            "|       1|\n",
            "+--------+\n",
            "\n"
          ]
        }
      ],
      "source": [
        "df_endorse.select('unit_nbr').distinct().orderBy(col('unit_nbr').desc()).show()"
      ]
    },
    {
      "cell_type": "markdown",
      "metadata": {
        "id": "sRTgdxNEQRPA"
      },
      "source": [
        "# Person Table"
      ]
    },
    {
      "cell_type": "code",
      "execution_count": 34,
      "metadata": {
        "colab": {
          "base_uri": "https://localhost:8080/"
        },
        "id": "46fG-_xSiZvj",
        "outputId": "9e9c5777-b8e8-424d-d81f-8e201e68ba97"
      },
      "outputs": [
        {
          "name": "stdout",
          "output_type": "stream",
          "text": [
            "+--------+--------+--------+------------+------------------+-------------------------+--------+-----------------+------------+------------+-------------------+-----------------+--------------+-----------+---------------------+----------------+------------------+---------------------+----------------+-----------------+---------------+---------------+------------------+--------------+-------------+--------------+-------------+---------+----------------------+-----------------+------------------+--------+\n",
            "|CRASH_ID|UNIT_NBR|PRSN_NBR|PRSN_TYPE_ID|PRSN_OCCPNT_POS_ID|PRSN_INJRY_SEV_ID        |PRSN_AGE|PRSN_ETHNICITY_ID|PRSN_GNDR_ID|PRSN_EJCT_ID|PRSN_REST_ID       |PRSN_AIRBAG_ID   |PRSN_HELMET_ID|PRSN_SOL_FL|PRSN_ALC_SPEC_TYPE_ID|PRSN_ALC_RSLT_ID|PRSN_BAC_TEST_RSLT|PRSN_DRG_SPEC_TYPE_ID|PRSN_DRG_RSLT_ID|DRVR_DRG_CAT_1_ID|PRSN_DEATH_TIME|INCAP_INJRY_CNT|NONINCAP_INJRY_CNT|POSS_INJRY_CNT|NON_INJRY_CNT|UNKN_INJRY_CNT|TOT_INJRY_CNT|DEATH_CNT|DRVR_LIC_TYPE_ID      |DRVR_LIC_STATE_ID|DRVR_LIC_CLS_ID   |DRVR_ZIP|\n",
            "+--------+--------+--------+------------+------------------+-------------------------+--------+-----------------+------------+------------+-------------------+-----------------+--------------+-----------+---------------------+----------------+------------------+---------------------+----------------+-----------------+---------------+---------------+------------------+--------------+-------------+--------------+-------------+---------+----------------------+-----------------+------------------+--------+\n",
            "|14768622|1       |1       |DRIVER      |FRONT LEFT        |NOT INJURED              |27      |HISPANIC         |MALE        |NO          |NONE               |DEPLOYED MULTIPLE|NOT APPLICABLE|N          |BLOOD                |Positive        |0.225             |NONE                 |NOT APPLICABLE  |NOT APPLICABLE   |NULL           |0              |0                 |0             |1            |0             |0            |0        |DRIVER LICENSE        |Texas            |CLASS C           |77357   |\n",
            "|14838637|1       |1       |DRIVER      |FRONT LEFT        |NOT INJURED              |31      |WHITE            |MALE        |NO          |SHOULDER & LAP BELT|NOT DEPLOYED     |NOT APPLICABLE|N          |BREATH               |Positive        |0.21              |NONE                 |NOT APPLICABLE  |NOT APPLICABLE   |NULL           |0              |0                 |0             |1            |0             |0            |0        |DRIVER LICENSE        |New York         |OTHER/OUT OF STATE|13830   |\n",
            "|14838637|2       |1       |DRIVER      |FRONT LEFT        |NOT INJURED              |41      |BLACK            |MALE        |NO          |SHOULDER & LAP BELT|NOT DEPLOYED     |NOT APPLICABLE|N          |NONE                 |NA              |NA                |NONE                 |NOT APPLICABLE  |NOT APPLICABLE   |NULL           |0              |0                 |0             |1            |0             |0            |0        |COMMERCIAL DRIVER LIC.|Texas            |CLASS A           |78934   |\n",
            "|14838641|1       |1       |DRIVER      |FRONT LEFT        |POSSIBLE INJURY          |32      |WHITE            |MALE        |NO          |SHOULDER & LAP BELT|DEPLOYED MULTIPLE|NOT APPLICABLE|N          |NONE                 |NA              |NA                |NONE                 |NOT APPLICABLE  |NOT APPLICABLE   |NULL           |0              |0                 |1             |0            |0             |1            |0        |DRIVER LICENSE        |Texas            |CLASS C           |76520   |\n",
            "|14838641|2       |1       |DRIVER      |FRONT LEFT        |NON-INCAPACITATING INJURY|34      |BLACK            |FEMALE      |NO          |SHOULDER & LAP BELT|DEPLOYED MULTIPLE|NOT APPLICABLE|N          |NONE                 |NA              |NA                |NONE                 |NOT APPLICABLE  |NOT APPLICABLE   |NULL           |0              |1                 |0             |0            |0             |1            |0        |ID CARD               |Texas            |UNLICENSED        |76707   |\n",
            "|14838668|1       |1       |DRIVER      |FRONT LEFT        |NOT INJURED              |24      |HISPANIC         |MALE        |NO          |SHOULDER & LAP BELT|DEPLOYED, FRONT  |NOT APPLICABLE|N          |BREATH               |Positive        |0.178             |NONE                 |NOT APPLICABLE  |NOT APPLICABLE   |NULL           |0              |0                 |0             |1            |0             |0            |0        |DRIVER LICENSE        |Texas            |CLASS C           |78076   |\n",
            "|14838669|1       |1       |DRIVER      |FRONT LEFT        |NOT INJURED              |53      |WHITE            |MALE        |NO          |SHOULDER & LAP BELT|NOT DEPLOYED     |NOT APPLICABLE|N          |NONE                 |NA              |NA                |NONE                 |NOT APPLICABLE  |NOT APPLICABLE   |NULL           |0              |0                 |0             |1            |0             |0            |0        |DRIVER LICENSE        |Texas            |CLASS C           |76053   |\n",
            "|14838669|2       |1       |DRIVER      |FRONT LEFT        |NOT INJURED              |24      |WHITE            |MALE        |NO          |UNKNOWN            |DEPLOYED, FRONT  |NOT APPLICABLE|N          |BREATH               |Positive        |0.219             |NONE                 |NOT APPLICABLE  |NOT APPLICABLE   |NULL           |0              |0                 |0             |1            |0             |0            |0        |DRIVER LICENSE        |Texas            |CLASS C           |76118   |\n",
            "|14838670|1       |1       |DRIVER      |FRONT LEFT        |NOT INJURED              |23      |WHITE            |MALE        |NO          |NONE               |NOT DEPLOYED     |NOT APPLICABLE|N          |BLOOD                |Positive        |0.16              |BLOOD                |UNKNOWN         |UNKNOWN          |NULL           |0              |0                 |0             |1            |0             |0            |0        |DRIVER LICENSE        |Texas            |CLASS C           |75050   |\n",
            "|14838685|1       |1       |DRIVER      |FRONT LEFT        |NOT INJURED              |27      |BLACK            |FEMALE      |NO          |SHOULDER & LAP BELT|NOT DEPLOYED     |NOT APPLICABLE|N          |NONE                 |NA              |NA                |NONE                 |NOT APPLICABLE  |NOT APPLICABLE   |NULL           |0              |0                 |0             |1            |0             |0            |0        |ID CARD               |Texas            |UNLICENSED        |77033   |\n",
            "+--------+--------+--------+------------+------------------+-------------------------+--------+-----------------+------------+------------+-------------------+-----------------+--------------+-----------+---------------------+----------------+------------------+---------------------+----------------+-----------------+---------------+---------------+------------------+--------------+-------------+--------------+-------------+---------+----------------------+-----------------+------------------+--------+\n",
            "only showing top 10 rows\n",
            "\n"
          ]
        }
      ],
      "source": [
        "df_person.show(10,truncate=False)"
      ]
    },
    {
      "cell_type": "code",
      "execution_count": 33,
      "metadata": {
        "colab": {
          "base_uri": "https://localhost:8080/"
        },
        "id": "pEbFuHVWQRPB",
        "outputId": "82c5bb12-fc64-4cc1-9b35-df94718592c6"
      },
      "outputs": [
        {
          "name": "stdout",
          "output_type": "stream",
          "text": [
            "root\n",
            " |-- CRASH_ID: integer (nullable = true)\n",
            " |-- UNIT_NBR: integer (nullable = true)\n",
            " |-- PRSN_NBR: integer (nullable = true)\n",
            " |-- PRSN_TYPE_ID: string (nullable = true)\n",
            " |-- PRSN_OCCPNT_POS_ID: string (nullable = true)\n",
            " |-- PRSN_INJRY_SEV_ID: string (nullable = true)\n",
            " |-- PRSN_AGE: string (nullable = true)\n",
            " |-- PRSN_ETHNICITY_ID: string (nullable = true)\n",
            " |-- PRSN_GNDR_ID: string (nullable = true)\n",
            " |-- PRSN_EJCT_ID: string (nullable = true)\n",
            " |-- PRSN_REST_ID: string (nullable = true)\n",
            " |-- PRSN_AIRBAG_ID: string (nullable = true)\n",
            " |-- PRSN_HELMET_ID: string (nullable = true)\n",
            " |-- PRSN_SOL_FL: string (nullable = true)\n",
            " |-- PRSN_ALC_SPEC_TYPE_ID: string (nullable = true)\n",
            " |-- PRSN_ALC_RSLT_ID: string (nullable = true)\n",
            " |-- PRSN_BAC_TEST_RSLT: string (nullable = true)\n",
            " |-- PRSN_DRG_SPEC_TYPE_ID: string (nullable = true)\n",
            " |-- PRSN_DRG_RSLT_ID: string (nullable = true)\n",
            " |-- DRVR_DRG_CAT_1_ID: string (nullable = true)\n",
            " |-- PRSN_DEATH_TIME: timestamp (nullable = true)\n",
            " |-- INCAP_INJRY_CNT: integer (nullable = true)\n",
            " |-- NONINCAP_INJRY_CNT: integer (nullable = true)\n",
            " |-- POSS_INJRY_CNT: integer (nullable = true)\n",
            " |-- NON_INJRY_CNT: integer (nullable = true)\n",
            " |-- UNKN_INJRY_CNT: integer (nullable = true)\n",
            " |-- TOT_INJRY_CNT: integer (nullable = true)\n",
            " |-- DEATH_CNT: integer (nullable = true)\n",
            " |-- DRVR_LIC_TYPE_ID: string (nullable = true)\n",
            " |-- DRVR_LIC_STATE_ID: string (nullable = true)\n",
            " |-- DRVR_LIC_CLS_ID: string (nullable = true)\n",
            " |-- DRVR_ZIP: string (nullable = true)\n",
            "\n"
          ]
        }
      ],
      "source": [
        "df_person.printSchema()"
      ]
    },
    {
      "cell_type": "code",
      "execution_count": 40,
      "metadata": {
        "colab": {
          "base_uri": "https://localhost:8080/"
        },
        "id": "QtoAY6lqQRPC",
        "outputId": "d60c6beb-e343-447b-e3db-35e872f8ce84"
      },
      "outputs": [
        {
          "name": "stdout",
          "output_type": "stream",
          "text": [
            "+---------------------------------+\n",
            "|prsn_type_id                     |\n",
            "+---------------------------------+\n",
            "|PEDESTRIAN                       |\n",
            "|DRIVER OF MOTORCYCLE TYPE VEHICLE|\n",
            "|PASSENGER/OCCUPANT               |\n",
            "|DRIVER                           |\n",
            "|UNKNOWN                          |\n",
            "|OTHER (EXPLAIN IN NARRATIVE)     |\n",
            "|PEDALCYCLIST                     |\n",
            "+---------------------------------+\n",
            "\n"
          ]
        }
      ],
      "source": [
        "df_person.select('prsn_type_id').distinct().show(truncate=False)"
      ]
    },
    {
      "cell_type": "code",
      "execution_count": 35,
      "metadata": {
        "colab": {
          "base_uri": "https://localhost:8080/"
        },
        "id": "F90R1H-LQRPC",
        "outputId": "6baf3f41-1cfd-45d8-e4a1-94b46eb8e9cb"
      },
      "outputs": [
        {
          "name": "stdout",
          "output_type": "stream",
          "text": [
            "+-------------------------------------------------+\n",
            "|prsn_occpnt_pos_id                               |\n",
            "+-------------------------------------------------+\n",
            "|FRONT CENTER                                     |\n",
            "|SECOND SEAT LEFT                                 |\n",
            "|PEDESTRIAN, PEDALCYCLIST, OR MOTORIZED CONVEYANCE|\n",
            "|FRONT LEFT                                       |\n",
            "|CARGO AREA                                       |\n",
            "|UNKNOWN                                          |\n",
            "|SECOND SEAT CENTER                               |\n",
            "|PASSENGER IN BUS                                 |\n",
            "|THIRD SEAT LEFT                                  |\n",
            "|OTHER  (EXPLAIN IN NARRATIVE)                    |\n",
            "|FRONT RIGHT                                      |\n",
            "|OTHER IN VEHICLE                                 |\n",
            "|SECOND SEAT RIGHT                                |\n",
            "|OUTSIDE VEHICLE                                  |\n",
            "+-------------------------------------------------+\n",
            "\n"
          ]
        }
      ],
      "source": [
        "df_person.select('prsn_occpnt_pos_id').distinct().show(truncate=False)"
      ]
    },
    {
      "cell_type": "code",
      "execution_count": 36,
      "metadata": {
        "colab": {
          "base_uri": "https://localhost:8080/"
        },
        "id": "RPkNvO1EQRPC",
        "outputId": "6970e83f-4fef-4b9a-f1ff-6529399d5548"
      },
      "outputs": [
        {
          "name": "stdout",
          "output_type": "stream",
          "text": [
            "+-------------------------+\n",
            "|prsn_injry_sev_id        |\n",
            "+-------------------------+\n",
            "|NA                       |\n",
            "|KILLED                   |\n",
            "|UNKNOWN                  |\n",
            "|NON-INCAPACITATING INJURY|\n",
            "|NOT INJURED              |\n",
            "|POSSIBLE INJURY          |\n",
            "|INCAPACITATING INJURY    |\n",
            "+-------------------------+\n",
            "\n"
          ]
        }
      ],
      "source": [
        "df_person.select('prsn_injry_sev_id').distinct().show(truncate=False)"
      ]
    },
    {
      "cell_type": "code",
      "execution_count": 37,
      "metadata": {
        "colab": {
          "base_uri": "https://localhost:8080/"
        },
        "id": "0wkVnFwuQRPD",
        "outputId": "0fd9a45b-25fb-468b-b063-b54d33d0269d"
      },
      "outputs": [
        {
          "name": "stdout",
          "output_type": "stream",
          "text": [
            "+---------------------------+\n",
            "|prsn_ethnicity_id          |\n",
            "+---------------------------+\n",
            "|WHITE                      |\n",
            "|BLACK                      |\n",
            "|HISPANIC                   |\n",
            "|NA                         |\n",
            "|AMER. INDIAN/ALASKAN NATIVE|\n",
            "|UNKNOWN                    |\n",
            "|OTHER                      |\n",
            "|ASIAN                      |\n",
            "+---------------------------+\n",
            "\n"
          ]
        }
      ],
      "source": [
        "df_person.select('prsn_ethnicity_id').distinct().show(truncate=False)"
      ]
    },
    {
      "cell_type": "code",
      "execution_count": 39,
      "metadata": {
        "colab": {
          "base_uri": "https://localhost:8080/"
        },
        "id": "3FZtKt2pQRPD",
        "outputId": "8f013140-931f-4a74-b0e5-a502b54e2e85"
      },
      "outputs": [
        {
          "name": "stdout",
          "output_type": "stream",
          "text": [
            "+------------+\n",
            "|prsn_gndr_id|\n",
            "+------------+\n",
            "|NA          |\n",
            "|UNKNOWN     |\n",
            "|MALE        |\n",
            "|FEMALE      |\n",
            "+------------+\n",
            "\n"
          ]
        }
      ],
      "source": [
        "df_person.select('prsn_gndr_id').distinct().show(truncate=False)"
      ]
    },
    {
      "cell_type": "code",
      "execution_count": 38,
      "metadata": {
        "colab": {
          "base_uri": "https://localhost:8080/"
        },
        "id": "eTwrIy6SQRPD",
        "outputId": "79e89c17-ba54-400a-f441-e8e08d218f8f"
      },
      "outputs": [
        {
          "name": "stdout",
          "output_type": "stream",
          "text": [
            "+--------------+\n",
            "|prsn_ejct_id  |\n",
            "+--------------+\n",
            "|YES, PARTIAL  |\n",
            "|NA            |\n",
            "|YES           |\n",
            "|UNKNOWN       |\n",
            "|NOT APPLICABLE|\n",
            "|NO            |\n",
            "+--------------+\n",
            "\n"
          ]
        }
      ],
      "source": [
        "df_person.select('prsn_ejct_id').distinct().show(truncate=False)"
      ]
    },
    {
      "cell_type": "code",
      "execution_count": 41,
      "metadata": {
        "colab": {
          "base_uri": "https://localhost:8080/"
        },
        "id": "2E0dv-mdQRPE",
        "outputId": "536a47e7-80dc-4970-fa8c-84356b211e20"
      },
      "outputs": [
        {
          "name": "stdout",
          "output_type": "stream",
          "text": [
            "+----------------------------+\n",
            "|prsn_rest_id                |\n",
            "+----------------------------+\n",
            "|NA                          |\n",
            "|CHILD SEAT, UNKNOWN         |\n",
            "|LAP BELT ONLY               |\n",
            "|UNKNOWN                     |\n",
            "|SHOULDER BELT ONLY          |\n",
            "|NOT APPLICABLE              |\n",
            "|OTHER (EXPLAIN IN NARRATIVE)|\n",
            "|CHILD BOOSTER SEAT          |\n",
            "|NONE                        |\n",
            "|SHOULDER & LAP BELT         |\n",
            "|CHILD SEAT, FACING REAR     |\n",
            "|CHILD SEAT, FACING FORWARD  |\n",
            "+----------------------------+\n",
            "\n"
          ]
        }
      ],
      "source": [
        "df_person.select('prsn_rest_id').distinct().show(truncate=False)"
      ]
    },
    {
      "cell_type": "code",
      "execution_count": 42,
      "metadata": {
        "colab": {
          "base_uri": "https://localhost:8080/"
        },
        "id": "H2MoZkqYQRPE",
        "outputId": "03365a05-2339-4fe1-cedc-2ce850c19671"
      },
      "outputs": [
        {
          "name": "stdout",
          "output_type": "stream",
          "text": [
            "+-----------------+\n",
            "|prsn_airbag_id   |\n",
            "+-----------------+\n",
            "|NA               |\n",
            "|DEPLOYED, REAR   |\n",
            "|NOT DEPLOYED     |\n",
            "|DEPLOYED, SIDE   |\n",
            "|UNKNOWN          |\n",
            "|NOT APPLICABLE   |\n",
            "|DEPLOYED MULTIPLE|\n",
            "|DEPLOYED, FRONT  |\n",
            "+-----------------+\n",
            "\n"
          ]
        }
      ],
      "source": [
        "df_person.select('prsn_airbag_id').distinct().show(truncate=False)"
      ]
    },
    {
      "cell_type": "code",
      "execution_count": 43,
      "metadata": {
        "colab": {
          "base_uri": "https://localhost:8080/"
        },
        "id": "Lc2JvM2hQRPE",
        "outputId": "d4f79c78-5eed-48ba-c6f5-1e1640ef5058"
      },
      "outputs": [
        {
          "name": "stdout",
          "output_type": "stream",
          "text": [
            "+-----------------+\n",
            "|prsn_helmet_id   |\n",
            "+-----------------+\n",
            "|WORN, UNK DAMAGE |\n",
            "|WORN, DAMAGED    |\n",
            "|NOT WORN         |\n",
            "|NOT APPLICABLE   |\n",
            "|WORN, NOT DAMAGED|\n",
            "|UNKNOWN IF WORN  |\n",
            "+-----------------+\n",
            "\n"
          ]
        }
      ],
      "source": [
        "df_person.select('prsn_helmet_id').distinct().show(truncate=False)"
      ]
    },
    {
      "cell_type": "code",
      "execution_count": 44,
      "metadata": {
        "colab": {
          "base_uri": "https://localhost:8080/"
        },
        "id": "wy_Z_D9gQRPF",
        "outputId": "5f582816-0a65-4429-82b5-1baf26db275e"
      },
      "outputs": [
        {
          "name": "stdout",
          "output_type": "stream",
          "text": [
            "+----------------+\n",
            "|prsn_alc_rslt_id|\n",
            "+----------------+\n",
            "|NA              |\n",
            "|Positive        |\n",
            "|Negative        |\n",
            "+----------------+\n",
            "\n"
          ]
        }
      ],
      "source": [
        "df_person.select('prsn_alc_rslt_id').distinct().show(truncate=False)"
      ]
    },
    {
      "cell_type": "code",
      "execution_count": 45,
      "metadata": {
        "colab": {
          "base_uri": "https://localhost:8080/"
        },
        "id": "E34qnpHUQRPK",
        "outputId": "7ac64b6c-93a3-4d1a-882d-24dc9a402811"
      },
      "outputs": [
        {
          "name": "stdout",
          "output_type": "stream",
          "text": [
            "+----------------------+\n",
            "|drvr_lic_type_id      |\n",
            "+----------------------+\n",
            "|NA                    |\n",
            "|COMMERCIAL DRIVER LIC.|\n",
            "|ID CARD               |\n",
            "|UNKNOWN               |\n",
            "|OCCUPATIONAL          |\n",
            "|UNLICENSED            |\n",
            "|OTHER                 |\n",
            "|DRIVER LICENSE        |\n",
            "+----------------------+\n",
            "\n"
          ]
        }
      ],
      "source": [
        "df_person.select('drvr_lic_type_id').distinct().show(truncate=False)"
      ]
    },
    {
      "cell_type": "code",
      "execution_count": 47,
      "metadata": {
        "colab": {
          "base_uri": "https://localhost:8080/"
        },
        "id": "PL0AtBp1QRPK",
        "outputId": "adf4a689-1e90-4937-8388-6a743b92cada"
      },
      "outputs": [
        {
          "name": "stdout",
          "output_type": "stream",
          "text": [
            "+------------------------+\n",
            "|drvr_lic_state_id       |\n",
            "+------------------------+\n",
            "|Utah                    |\n",
            "|Hawaii                  |\n",
            "|Minnesota               |\n",
            "|Ohio                    |\n",
            "|Northern Mariana Islands|\n",
            "|Arkansas                |\n",
            "|Oregon                  |\n",
            "|NA                      |\n",
            "|Texas                   |\n",
            "|North Dakota            |\n",
            "|Pennsylvania            |\n",
            "|Connecticut             |\n",
            "|Nebraska                |\n",
            "|Vermont                 |\n",
            "|Nevada                  |\n",
            "|Puerto Rico             |\n",
            "|Washington              |\n",
            "|Illinois                |\n",
            "|Oklahoma                |\n",
            "|Unknown                 |\n",
            "+------------------------+\n",
            "only showing top 20 rows\n",
            "\n"
          ]
        }
      ],
      "source": [
        "df_person.select('drvr_lic_state_id').distinct().show(truncate=False)"
      ]
    },
    {
      "cell_type": "code",
      "execution_count": 48,
      "metadata": {
        "colab": {
          "base_uri": "https://localhost:8080/"
        },
        "id": "qNe7n50uQRPK",
        "outputId": "5fe18262-8e64-4c41-c3ea-e98727f72ab1"
      },
      "outputs": [
        {
          "name": "stdout",
          "output_type": "stream",
          "text": [
            "+------------------+\n",
            "|drvr_lic_cls_id   |\n",
            "+------------------+\n",
            "|CLASS C           |\n",
            "|CLASS C AND M     |\n",
            "|NA                |\n",
            "|OTHER/OUT OF STATE|\n",
            "|CLASS B           |\n",
            "|CLASS A AND M     |\n",
            "|CLASS M           |\n",
            "|CLASS A           |\n",
            "|UNKNOWN           |\n",
            "|CLASS B AND M     |\n",
            "|UNLICENSED        |\n",
            "+------------------+\n",
            "\n"
          ]
        }
      ],
      "source": [
        "df_person.select('drvr_lic_cls_id').distinct().show(truncate=False)"
      ]
    },
    {
      "cell_type": "code",
      "execution_count": null,
      "metadata": {
        "id": "yITCnAIqQRPL",
        "outputId": "48aa2ac4-8360-4907-d259-502ccb485d3f"
      },
      "outputs": [
        {
          "data": {
            "text/plain": [
              "156954"
            ]
          },
          "execution_count": 81,
          "metadata": {},
          "output_type": "execute_result"
        }
      ],
      "source": [
        "df_person.count()"
      ]
    },
    {
      "cell_type": "code",
      "execution_count": 50,
      "metadata": {
        "colab": {
          "base_uri": "https://localhost:8080/"
        },
        "id": "GTCSpBNiQRPL",
        "outputId": "a5b098aa-1a76-4b3e-b95a-3f3d52c5ced1"
      },
      "outputs": [
        {
          "data": {
            "text/plain": [
              "156954"
            ]
          },
          "execution_count": 50,
          "metadata": {},
          "output_type": "execute_result"
        }
      ],
      "source": [
        "df_person.distinct().count()"
      ]
    },
    {
      "cell_type": "code",
      "execution_count": 49,
      "metadata": {
        "colab": {
          "base_uri": "https://localhost:8080/"
        },
        "id": "dTp2dvXFWM3i",
        "outputId": "d5ce6b3e-75dd-493b-fa81-75a1ccf26935"
      },
      "outputs": [
        {
          "data": {
            "text/plain": [
              "156954"
            ]
          },
          "execution_count": 49,
          "metadata": {},
          "output_type": "execute_result"
        }
      ],
      "source": [
        "df_person.select('crash_id','unit_nbr','prsn_nbr').distinct().count()"
      ]
    },
    {
      "cell_type": "markdown",
      "metadata": {
        "id": "6YdWe2r5QRPL"
      },
      "source": [
        "# Restrict Table"
      ]
    },
    {
      "cell_type": "code",
      "execution_count": 51,
      "metadata": {
        "colab": {
          "base_uri": "https://localhost:8080/"
        },
        "id": "xYeelCPridSV",
        "outputId": "6ca4e492-b1cc-4b0e-aadf-897eaf618027"
      },
      "outputs": [
        {
          "name": "stdout",
          "output_type": "stream",
          "text": [
            "+--------+--------+--------------------+\n",
            "|CRASH_ID|UNIT_NBR| DRVR_LIC_RESTRIC_ID|\n",
            "+--------+--------+--------------------+\n",
            "|14768622|       1|                NONE|\n",
            "|14838637|       1|  OTHER/OUT OF STATE|\n",
            "|14838637|       2|                NONE|\n",
            "|14838641|       1|WITH CORRECTIVE L...|\n",
            "|14838641|       2|          UNLICENSED|\n",
            "|14838668|       1|                NONE|\n",
            "|14838669|       1|                NONE|\n",
            "|14838669|       2|WITH CORRECTIVE L...|\n",
            "|14838670|       1|                NONE|\n",
            "|14838685|       1|          UNLICENSED|\n",
            "+--------+--------+--------------------+\n",
            "only showing top 10 rows\n",
            "\n"
          ]
        }
      ],
      "source": [
        "df_restrict.show(10)"
      ]
    },
    {
      "cell_type": "code",
      "execution_count": 52,
      "metadata": {
        "colab": {
          "base_uri": "https://localhost:8080/"
        },
        "id": "2yCvpZgBQRPM",
        "outputId": "bf5a3f3f-50e9-46c0-d6a6-6d4190eb5a9a"
      },
      "outputs": [
        {
          "name": "stdout",
          "output_type": "stream",
          "text": [
            "root\n",
            " |-- CRASH_ID: integer (nullable = true)\n",
            " |-- UNIT_NBR: integer (nullable = true)\n",
            " |-- DRVR_LIC_RESTRIC_ID: string (nullable = true)\n",
            "\n"
          ]
        }
      ],
      "source": [
        "df_restrict.printSchema()"
      ]
    },
    {
      "cell_type": "code",
      "execution_count": 53,
      "metadata": {
        "colab": {
          "base_uri": "https://localhost:8080/"
        },
        "id": "swvHwPcNQRPN",
        "outputId": "67fd9374-0809-4fb5-ead2-2e3f1bfc7282"
      },
      "outputs": [
        {
          "name": "stdout",
          "output_type": "stream",
          "text": [
            "+---------------------------------------------------+\n",
            "|drvr_lic_restric_id                                |\n",
            "+---------------------------------------------------+\n",
            "|MOPED (EFF. END 12/31/2016)                        |\n",
            "|APPLICABLE PROSTHETIC DEVICES                      |\n",
            "|FRSI CDL MM/DD/YY - MM/DD/YY OR EXEMPT A VEH       |\n",
            "|TRC 545.424 APPLIES UNTIL MM/DD/YY                 |\n",
            "|TO/FROM WORK OR LOFS 21 OR OVER                    |\n",
            "|INTRASTATE ONLY (EFF. 1/1/2017)                    |\n",
            "|WITH CORRECTIVE LENSES                             |\n",
            "|STATED ON LICENSE                                  |\n",
            "|OPERATION CLASS A EXEMPT VEH AUTHORIZED            |\n",
            "|VEHICLE NOT TO EXCEED CLASS C (EFF. END 12/31/2016)|\n",
            "|NO CLASS A AND B PASSENGER VEHICLE (EFF. 1/1/2017) |\n",
            "|IF CMV, CUSTOM-HARVESTING INTERSTATE               |\n",
            "|LOFS 21 OR OVER SCHOOL BUS ONLY                    |\n",
            "|PASSENGER CMVS RESTRICT TO CLASS C ONLY            |\n",
            "|IF CMV, PRIVATELY TRANS PASSENGERS INTERSTATE      |\n",
            "|OPERATION CLASS B EXEMPT VEH AUTHORIZED            |\n",
            "|LOFS 21 OR OVER VEHICLE ABOVE CLASS C              |\n",
            "|IGNITION INTERLOCK REQUIRED (EFF. END 12/31/2016)  |\n",
            "|LOFS 21 OR OVER IN VEH EQUIP W/ AIRBRAKE           |\n",
            "|BUS NOT TO EXCEED 26,000 LBS GVWR                  |\n",
            "+---------------------------------------------------+\n",
            "only showing top 20 rows\n",
            "\n"
          ]
        }
      ],
      "source": [
        "df_restrict.select('drvr_lic_restric_id').distinct().show(truncate=False)"
      ]
    },
    {
      "cell_type": "code",
      "execution_count": 54,
      "metadata": {
        "colab": {
          "base_uri": "https://localhost:8080/"
        },
        "id": "zVNgRC_qQRPN",
        "outputId": "5db19c62-2b51-4957-ff93-9852dbeb8ff7"
      },
      "outputs": [
        {
          "data": {
            "text/plain": [
              "159852"
            ]
          },
          "execution_count": 54,
          "metadata": {},
          "output_type": "execute_result"
        }
      ],
      "source": [
        "df_restrict.count()"
      ]
    },
    {
      "cell_type": "code",
      "execution_count": 55,
      "metadata": {
        "colab": {
          "base_uri": "https://localhost:8080/"
        },
        "id": "XMte6SvzQRPN",
        "outputId": "9ba1b7a9-32d9-495e-c8ba-d4cc6be9ed6c"
      },
      "outputs": [
        {
          "data": {
            "text/plain": [
              "159852"
            ]
          },
          "execution_count": 55,
          "metadata": {},
          "output_type": "execute_result"
        }
      ],
      "source": [
        "df_restrict.distinct().count()"
      ]
    },
    {
      "cell_type": "code",
      "execution_count": 56,
      "metadata": {
        "colab": {
          "base_uri": "https://localhost:8080/"
        },
        "id": "GrJUxsC4Wzx1",
        "outputId": "332d9521-9c1d-46f7-a08c-1fa90e3f2ed9"
      },
      "outputs": [
        {
          "data": {
            "text/plain": [
              "156500"
            ]
          },
          "execution_count": 56,
          "metadata": {},
          "output_type": "execute_result"
        }
      ],
      "source": [
        "df_restrict.select('crash_id','unit_nbr').distinct().count()"
      ]
    },
    {
      "cell_type": "markdown",
      "metadata": {
        "id": "0VdiWbhxQRPN"
      },
      "source": [
        "# Unit Table"
      ]
    },
    {
      "cell_type": "code",
      "execution_count": 57,
      "metadata": {
        "colab": {
          "base_uri": "https://localhost:8080/"
        },
        "id": "4VsSC2Abihdp",
        "outputId": "8bb2cc4d-6d77-421b-fb45-fc5cfdb3d298"
      },
      "outputs": [
        {
          "name": "stdout",
          "output_type": "stream",
          "text": [
            "+--------+--------+-------------+-------------+----------+----------------+-----------------+------------+------------+------------+---------------+--------------------+---------------+--------+-----------------+--------------------+--------------------+-----------------+--------------+--------------------+-----------------+--------------+------------------+--------------------+--------------------+--------------------+--------------------+-------------------+---------------+---------------------+---------------+------------------+--------------+-------------+--------------+-------------+---------+\n",
            "|CRASH_ID|UNIT_NBR| UNIT_DESC_ID|VEH_PARKED_FL|VEH_HNR_FL|VEH_LIC_STATE_ID|              VIN|VEH_MOD_YEAR|VEH_COLOR_ID| VEH_MAKE_ID|     VEH_MOD_ID|    VEH_BODY_STYL_ID|EMER_RESPNDR_FL|OWNR_ZIP|FIN_RESP_PROOF_ID|    FIN_RESP_TYPE_ID|  VEH_DMAG_AREA_1_ID|VEH_DMAG_SCL_1_ID|FORCE_DIR_1_ID|  VEH_DMAG_AREA_2_ID|VEH_DMAG_SCL_2_ID|FORCE_DIR_2_ID|VEH_INVENTORIED_FL|     VEH_TRANSP_NAME|     VEH_TRANSP_DEST|  CONTRIB_FACTR_1_ID|  CONTRIB_FACTR_2_ID|CONTRIB_FACTR_P1_ID|VEH_TRVL_DIR_ID|FIRST_HARM_EVT_INV_ID|INCAP_INJRY_CNT|NONINCAP_INJRY_CNT|POSS_INJRY_CNT|NON_INJRY_CNT|UNKN_INJRY_CNT|TOT_INJRY_CNT|DEATH_CNT|\n",
            "+--------+--------+-------------+-------------+----------+----------------+-----------------+------------+------------+------------+---------------+--------------------+---------------+--------+-----------------+--------------------+--------------------+-----------------+--------------+--------------------+-----------------+--------------+------------------+--------------------+--------------------+--------------------+--------------------+-------------------+---------------+---------------------+---------------+------------------+--------------+-------------+--------------+-------------+---------+\n",
            "|14768622|       1|MOTOR VEHICLE|            N|         N|              TX|4S2CK57D1X4381118|        1999|         GRY|       ISUZU|          AMIGO|PASSENGER CAR, 4-...|              Y|   77357|                2|                  NA|FRONT END DAMAGE ...|        DAMAGED 3|             1|LEFT SIDE AND TOP...|        DAMAGED 4|             3|                 Y|     VALENTIN TOWING|20288 FM 1314 POR...|UNDER INFLUENCE -...|                  NA|                 NA|           EAST|                    Y|              0|                 0|             0|            1|             0|            0|        0|\n",
            "|14838637|       1|MOTOR VEHICLE|            N|         N|              TX|WVWAN7AN6DE536582|          NA|         GRY|  VOLKSWAGEN|             CC|PASSENGER CAR, 4-...|              N|   13830|                1|PROOF OF LIABILIT...|FRONT END DAMAGE ...|        DAMAGED 3|            12|                  NA|               NA|            NA|                 N|          A-1 TOWING|    4710 ELLEN TROUT|   HAD BEEN DRINKING|                  NA|                 NA|          SOUTH|                    Y|              0|                 0|             0|            1|             0|            0|        0|\n",
            "|14838637|       2|MOTOR VEHICLE|            N|         N|              TX|1FUJA6CG24LM14889|        2004|         RED|FREIGHTLINER|             NA|               TRUCK|              N|   78934|                1|PROOF OF LIABILIT...|RIGHT SIDE DAMAGE...|        DAMAGED 2|             3|                  NA|               NA|            NA|                 N|         DRIVEN AWAY|           BY DRIVER|                NONE|                  NA|                 NA|          SOUTH|                    Y|              0|                 0|             0|            1|             0|            0|        0|\n",
            "|14838637|       2|MOTOR VEHICLE|            N|         N|              TX|1FUJA6CG24LM14889|        2004|         RED|FREIGHTLINER|             NA|               TRUCK|              N|   78934|                1|PROOF OF LIABILIT...|RIGHT SIDE DAMAGE...|        DAMAGED 2|             3|                  NA|               NA|            NA|                 N|         DRIVEN AWAY|           BY DRIVER|                NONE|                  NA|                 NA|          SOUTH|                    Y|              0|                 0|             0|            1|             0|            0|        0|\n",
            "|14838637|       3|TOWED/TRAILER|         NULL|      NULL|              NA|             NULL|          NA|          NA|          NA|             NA|                  NA|           NULL|   78934|               NA|                  NA|                  NA|               NA|            NA|                  NA|               NA|            NA|              NULL|                NULL|                NULL|                NONE|                  NA|                 NA| NOT APPLICABLE|                    N|              0|                 0|             0|            0|             0|            0|        0|\n",
            "|14838641|       1|MOTOR VEHICLE|            N|         N|              TX|JHMFA15896S005043|        2006|         GRY|       HONDA|          CIVIC|PASSENGER CAR, 4-...|              N|   76520|                1|PROOF OF LIABILIT...|FRONT END (RIGHT)...|        DAMAGED 3|             1|                  NA|               NA|            NA|                 N|            TOW KING|          7191 BAGBY|DISREGARD STOP AN...|  DRIVER INATTENTION|                 NA|      NORTHWEST|                    Y|              0|                 0|             1|            0|             0|            1|        0|\n",
            "|14838641|       2|MOTOR VEHICLE|            N|         N|              TX|1GNEC13R8YR146867|        2000|         BLK|   CHEVROLET|          TAHOE|SPORT UTILITY VEH...|              N|   76707|                1|PROOF OF LIABILIT...|LEFT SIDE AND TOP...|        DAMAGED 3|             9|                  NA|               NA|            NA|                 N|            TOW KING|          7191 BAGBY|                NONE|                  NA|                 NA|      SOUTHWEST|                    Y|              0|                 1|             0|            0|             0|            1|        0|\n",
            "|14838668|       1|MOTOR VEHICLE|            N|         N|              TX|JM1BK32F791214223|          NA|         BLK|       MAZDA|             NA|PASSENGER CAR, 4-...|              N|   78076|                2|                  NA|FRONT END DAMAGE ...|        DAMAGED 4|            12|                  NA|               NA|            NA|                 Y|     GARCIA'S TOWING|203 2ND ST, ZAPAT...|UNDER INFLUENCE -...|FAILED TO DRIVE I...|                 NA|      NORTHWEST|                    Y|              0|                 0|             0|            1|             0|            0|        0|\n",
            "|14838669|       1|MOTOR VEHICLE|            N|         N|              TX|1GCEC14X89Z178483|          NA|         WHI|   CHEVROLET|SILVERADO C1500|              PICKUP|              N|   76053|                1|LIABILITY INSURAN...|BACK END DAMAGE D...|        DAMAGED 2|             6|                  NA|               NA|            NA|                 N|         DRIVEN AWAY|           BY DRIVER|                NONE|                  NA|                 NA|           WEST|                    Y|              0|                 0|             0|            1|             0|            0|        0|\n",
            "|14838669|       2|MOTOR VEHICLE|            N|         N|              TX|JM1BL1SF9A1147727|          NA|         BLK|       MAZDA|             NA|PASSENGER CAR, 4-...|              N|   76118|                1|LIABILITY INSURAN...|FRONT END DAMAGE ...|        DAMAGED 3|            12|                  NA|               NA|            NA|                 Y|EULESS B & B WREC...|1201 W EULESS BLV...|FAILED TO CONTROL...|UNDER INFLUENCE -...|                 NA|           WEST|                    Y|              0|                 0|             0|            1|             0|            0|        0|\n",
            "+--------+--------+-------------+-------------+----------+----------------+-----------------+------------+------------+------------+---------------+--------------------+---------------+--------+-----------------+--------------------+--------------------+-----------------+--------------+--------------------+-----------------+--------------+------------------+--------------------+--------------------+--------------------+--------------------+-------------------+---------------+---------------------+---------------+------------------+--------------+-------------+--------------+-------------+---------+\n",
            "only showing top 10 rows\n",
            "\n"
          ]
        }
      ],
      "source": [
        "df_units.show(10)"
      ]
    },
    {
      "cell_type": "code",
      "execution_count": 58,
      "metadata": {
        "colab": {
          "base_uri": "https://localhost:8080/"
        },
        "id": "O-ZoxrPYike2",
        "outputId": "ac3d6867-4373-4334-cab1-b82f871e4cdb"
      },
      "outputs": [
        {
          "name": "stdout",
          "output_type": "stream",
          "text": [
            "root\n",
            " |-- CRASH_ID: integer (nullable = true)\n",
            " |-- UNIT_NBR: integer (nullable = true)\n",
            " |-- UNIT_DESC_ID: string (nullable = true)\n",
            " |-- VEH_PARKED_FL: string (nullable = true)\n",
            " |-- VEH_HNR_FL: string (nullable = true)\n",
            " |-- VEH_LIC_STATE_ID: string (nullable = true)\n",
            " |-- VIN: string (nullable = true)\n",
            " |-- VEH_MOD_YEAR: string (nullable = true)\n",
            " |-- VEH_COLOR_ID: string (nullable = true)\n",
            " |-- VEH_MAKE_ID: string (nullable = true)\n",
            " |-- VEH_MOD_ID: string (nullable = true)\n",
            " |-- VEH_BODY_STYL_ID: string (nullable = true)\n",
            " |-- EMER_RESPNDR_FL: string (nullable = true)\n",
            " |-- OWNR_ZIP: string (nullable = true)\n",
            " |-- FIN_RESP_PROOF_ID: string (nullable = true)\n",
            " |-- FIN_RESP_TYPE_ID: string (nullable = true)\n",
            " |-- VEH_DMAG_AREA_1_ID: string (nullable = true)\n",
            " |-- VEH_DMAG_SCL_1_ID: string (nullable = true)\n",
            " |-- FORCE_DIR_1_ID: string (nullable = true)\n",
            " |-- VEH_DMAG_AREA_2_ID: string (nullable = true)\n",
            " |-- VEH_DMAG_SCL_2_ID: string (nullable = true)\n",
            " |-- FORCE_DIR_2_ID: string (nullable = true)\n",
            " |-- VEH_INVENTORIED_FL: string (nullable = true)\n",
            " |-- VEH_TRANSP_NAME: string (nullable = true)\n",
            " |-- VEH_TRANSP_DEST: string (nullable = true)\n",
            " |-- CONTRIB_FACTR_1_ID: string (nullable = true)\n",
            " |-- CONTRIB_FACTR_2_ID: string (nullable = true)\n",
            " |-- CONTRIB_FACTR_P1_ID: string (nullable = true)\n",
            " |-- VEH_TRVL_DIR_ID: string (nullable = true)\n",
            " |-- FIRST_HARM_EVT_INV_ID: string (nullable = true)\n",
            " |-- INCAP_INJRY_CNT: integer (nullable = true)\n",
            " |-- NONINCAP_INJRY_CNT: integer (nullable = true)\n",
            " |-- POSS_INJRY_CNT: integer (nullable = true)\n",
            " |-- NON_INJRY_CNT: integer (nullable = true)\n",
            " |-- UNKN_INJRY_CNT: integer (nullable = true)\n",
            " |-- TOT_INJRY_CNT: integer (nullable = true)\n",
            " |-- DEATH_CNT: integer (nullable = true)\n",
            "\n"
          ]
        }
      ],
      "source": [
        "df_units.printSchema()"
      ]
    },
    {
      "cell_type": "code",
      "execution_count": 59,
      "metadata": {
        "colab": {
          "base_uri": "https://localhost:8080/"
        },
        "id": "SSwXOrn0QRPP",
        "outputId": "da7cd2f4-0261-4b85-df86-b5d7905de045"
      },
      "outputs": [
        {
          "data": {
            "text/plain": [
              "173499"
            ]
          },
          "execution_count": 59,
          "metadata": {},
          "output_type": "execute_result"
        }
      ],
      "source": [
        "df_units.count()"
      ]
    },
    {
      "cell_type": "code",
      "execution_count": 60,
      "metadata": {
        "colab": {
          "base_uri": "https://localhost:8080/"
        },
        "id": "6flh93CZQRPP",
        "outputId": "029d630e-78bb-4be0-c4bc-1147cb3677dd"
      },
      "outputs": [
        {
          "data": {
            "text/plain": [
              "168124"
            ]
          },
          "execution_count": 60,
          "metadata": {},
          "output_type": "execute_result"
        }
      ],
      "source": [
        "df_units.distinct().count()"
      ]
    },
    {
      "cell_type": "code",
      "execution_count": 63,
      "metadata": {
        "colab": {
          "base_uri": "https://localhost:8080/"
        },
        "id": "xLMAaq88XaeN",
        "outputId": "b7df2f32-36a0-4d33-d7b0-ecf96dcfe0fe"
      },
      "outputs": [
        {
          "data": {
            "text/plain": [
              "168020"
            ]
          },
          "execution_count": 63,
          "metadata": {},
          "output_type": "execute_result"
        }
      ],
      "source": [
        "df_units.dropDuplicates(['crash_id','unit_nbr']).count()"
      ]
    },
    {
      "cell_type": "code",
      "execution_count": 62,
      "metadata": {
        "colab": {
          "base_uri": "https://localhost:8080/"
        },
        "id": "XJaSDP6bXLoH",
        "outputId": "0478daff-03de-45a1-b5ab-c739db4dd798"
      },
      "outputs": [
        {
          "data": {
            "text/plain": [
              "168020"
            ]
          },
          "execution_count": 62,
          "metadata": {},
          "output_type": "execute_result"
        }
      ],
      "source": [
        "df_units.dropDuplicates(['crash_id','unit_nbr','unit_desc_id']).count()"
      ]
    },
    {
      "cell_type": "code",
      "execution_count": 64,
      "metadata": {
        "colab": {
          "base_uri": "https://localhost:8080/"
        },
        "id": "vFYE83g2QRPQ",
        "outputId": "48943f59-4d8f-44f5-b45b-eab232ccd051"
      },
      "outputs": [
        {
          "name": "stdout",
          "output_type": "stream",
          "text": [
            "+-----------------------------+\n",
            "|unit_desc_id                 |\n",
            "+-----------------------------+\n",
            "|PEDESTRIAN                   |\n",
            "|NON-CONTACT                  |\n",
            "|TRAIN                        |\n",
            "|MOTOR VEHICLE                |\n",
            "|MOTORIZED CONVEYANCE         |\n",
            "|OTHER  (EXPLAIN IN NARRATIVE)|\n",
            "|PEDALCYCLIST                 |\n",
            "|TOWED/TRAILER                |\n",
            "+-----------------------------+\n",
            "\n"
          ]
        }
      ],
      "source": [
        "df_units.select('unit_desc_id').distinct().show(truncate=False)"
      ]
    },
    {
      "cell_type": "code",
      "execution_count": 65,
      "metadata": {
        "colab": {
          "base_uri": "https://localhost:8080/"
        },
        "id": "Dbq91NwkQRPQ",
        "outputId": "55519094-51ad-48f8-8d58-4096605fba6a"
      },
      "outputs": [
        {
          "name": "stdout",
          "output_type": "stream",
          "text": [
            "+----------+\n",
            "|veh_hnr_fl|\n",
            "+----------+\n",
            "|Y         |\n",
            "|N         |\n",
            "|NULL      |\n",
            "+----------+\n",
            "\n"
          ]
        }
      ],
      "source": [
        "df_units.select('veh_hnr_fl').distinct().show(truncate=False)"
      ]
    },
    {
      "cell_type": "code",
      "execution_count": 66,
      "metadata": {
        "colab": {
          "base_uri": "https://localhost:8080/"
        },
        "id": "tzxD9evKQRPQ",
        "outputId": "832cf6c5-bb0e-4507-99d3-b274c5bc74cf"
      },
      "outputs": [
        {
          "name": "stdout",
          "output_type": "stream",
          "text": [
            "+----------------+\n",
            "|veh_lic_state_id|\n",
            "+----------------+\n",
            "|AZ              |\n",
            "|SC              |\n",
            "|LA              |\n",
            "|MN              |\n",
            "|NJ              |\n",
            "|MX              |\n",
            "|DC              |\n",
            "|OR              |\n",
            "|NA              |\n",
            "|98              |\n",
            "|VA              |\n",
            "|RI              |\n",
            "|KY              |\n",
            "|WY              |\n",
            "|NH              |\n",
            "|MI              |\n",
            "|NV              |\n",
            "|WI              |\n",
            "|ID              |\n",
            "|CA              |\n",
            "+----------------+\n",
            "only showing top 20 rows\n",
            "\n"
          ]
        }
      ],
      "source": [
        "df_units.select('veh_lic_state_id').distinct().show(truncate=False)"
      ]
    },
    {
      "cell_type": "code",
      "execution_count": 67,
      "metadata": {
        "colab": {
          "base_uri": "https://localhost:8080/"
        },
        "id": "3-oOeiwoQRPR",
        "outputId": "f71a10fc-7f79-44bf-9f44-a36a62587e55"
      },
      "outputs": [
        {
          "name": "stdout",
          "output_type": "stream",
          "text": [
            "+-----------------+\n",
            "|vin              |\n",
            "+-----------------+\n",
            "|1FAFP53U85A190865|\n",
            "|4T1BG22KX1U857396|\n",
            "|1N4AA5AP5CC862603|\n",
            "|JT4VN93D5M5023678|\n",
            "|3GCEC13JX7G523359|\n",
            "|3C4FY58B95T505146|\n",
            "|1ZVFT82H965215324|\n",
            "|JN1AZ34D45M604758|\n",
            "|1FAFP5357XA316506|\n",
            "|5TFRM5F14CX043017|\n",
            "|1GTEK19ZX5Z309758|\n",
            "|3GNEC16Z52G176864|\n",
            "|1GCEC14V52Z217681|\n",
            "|1GNFC13J57R299137|\n",
            "|1GNEC13T41J143853|\n",
            "|1FAFP42X1YF275608|\n",
            "|1FTFW1EF7DKF49488|\n",
            "|1FMCU93178KE69253|\n",
            "|1LNHM82WX3Y653525|\n",
            "|4T1BK1EBXEU132889|\n",
            "+-----------------+\n",
            "only showing top 20 rows\n",
            "\n"
          ]
        }
      ],
      "source": [
        "df_units.select('vin').distinct().show(truncate=False)"
      ]
    },
    {
      "cell_type": "code",
      "execution_count": 71,
      "metadata": {
        "colab": {
          "base_uri": "https://localhost:8080/"
        },
        "id": "6dFLjBfkXvpr",
        "outputId": "3ee8fd91-41ce-41d7-9a8a-aa5e1b2df2af"
      },
      "outputs": [
        {
          "data": {
            "text/plain": [
              "7699"
            ]
          },
          "execution_count": 71,
          "metadata": {},
          "output_type": "execute_result"
        }
      ],
      "source": [
        "df_units.filter(col('vin').isNull() | col('vin').isin('NA')).count()"
      ]
    },
    {
      "cell_type": "code",
      "execution_count": 70,
      "metadata": {
        "colab": {
          "base_uri": "https://localhost:8080/"
        },
        "id": "z80kbfHQQRPR",
        "outputId": "dbc3e1d9-a9bd-4a39-e3f5-0b4333de49d8"
      },
      "outputs": [
        {
          "name": "stdout",
          "output_type": "stream",
          "text": [
            "+------------+\n",
            "|veh_mod_year|\n",
            "+------------+\n",
            "|1957        |\n",
            "|1987        |\n",
            "|1936        |\n",
            "|1958        |\n",
            "|1972        |\n",
            "|1988        |\n",
            "|1977        |\n",
            "|1971        |\n",
            "|1984        |\n",
            "|1982        |\n",
            "|2005        |\n",
            "|1919        |\n",
            "|NA          |\n",
            "|2000        |\n",
            "|1965        |\n",
            "|1981        |\n",
            "|1940        |\n",
            "|1978        |\n",
            "|1974        |\n",
            "|2002        |\n",
            "+------------+\n",
            "only showing top 20 rows\n",
            "\n"
          ]
        }
      ],
      "source": [
        "df_units.select('veh_mod_year').distinct().show(truncate=False)"
      ]
    },
    {
      "cell_type": "code",
      "execution_count": 72,
      "metadata": {
        "colab": {
          "base_uri": "https://localhost:8080/"
        },
        "id": "5E-8awR1X8yO",
        "outputId": "4c500050-92eb-4bd1-cfc0-5c4bc6314741"
      },
      "outputs": [
        {
          "data": {
            "text/plain": [
              "75947"
            ]
          },
          "execution_count": 72,
          "metadata": {},
          "output_type": "execute_result"
        }
      ],
      "source": [
        "df_units.filter(col('veh_mod_year').isNull() | col('veh_mod_year').isin('NA')).count()"
      ]
    },
    {
      "cell_type": "code",
      "execution_count": 75,
      "metadata": {
        "colab": {
          "base_uri": "https://localhost:8080/"
        },
        "id": "zbuqPQ9-QRPR",
        "outputId": "d2ceeffe-1532-4ba9-f8cd-92759a097153"
      },
      "outputs": [
        {
          "name": "stdout",
          "output_type": "stream",
          "text": [
            "+------------+\n",
            "|veh_color_id|\n",
            "+------------+\n",
            "|RED         |\n",
            "|TEA         |\n",
            "|BLK         |\n",
            "|ONG         |\n",
            "|YEL         |\n",
            "|GLD         |\n",
            "|NA          |\n",
            "|98          |\n",
            "|99          |\n",
            "|CAM         |\n",
            "|BRZ         |\n",
            "|TRQ         |\n",
            "|SIL         |\n",
            "|CPR         |\n",
            "|BRO         |\n",
            "|PLE         |\n",
            "|BLU         |\n",
            "|MAR         |\n",
            "|BGE         |\n",
            "|PNK         |\n",
            "+------------+\n",
            "only showing top 20 rows\n",
            "\n"
          ]
        }
      ],
      "source": [
        "df_units.select('veh_color_id').distinct().show(truncate=False)"
      ]
    },
    {
      "cell_type": "code",
      "execution_count": 74,
      "metadata": {
        "colab": {
          "base_uri": "https://localhost:8080/"
        },
        "id": "BOQsYAYQQRPS",
        "outputId": "392b34ee-64ce-40ec-a4f7-23a01e51896b"
      },
      "outputs": [
        {
          "name": "stdout",
          "output_type": "stream",
          "text": [
            "+-----------------------------+\n",
            "|veh_make_id                  |\n",
            "+-----------------------------+\n",
            "|UTILIMASTER                  |\n",
            "|AMERICAN IRON HORSE          |\n",
            "|ACURA                        |\n",
            "|WHITE                        |\n",
            "|MOTOR COACH MND INC          |\n",
            "|PIERCE                       |\n",
            "|PORSCHE                      |\n",
            "|WHITEGMC                     |\n",
            "|FREIGHTLINER                 |\n",
            "|BUELL                        |\n",
            "|STERLING                     |\n",
            "|HYUNDAI                      |\n",
            "|INTERNATIONAL                |\n",
            "|PETER PIRSCH & SONS          |\n",
            "|FIAT                         |\n",
            "|GILLIG                       |\n",
            "|NA                           |\n",
            "|MIDLAND MANUFACTURING LIMITED|\n",
            "|DATSUN                       |\n",
            "|CAN-AM                       |\n",
            "+-----------------------------+\n",
            "only showing top 20 rows\n",
            "\n"
          ]
        }
      ],
      "source": [
        "df_units.select('veh_make_id').distinct().show(truncate=False)"
      ]
    },
    {
      "cell_type": "code",
      "execution_count": 76,
      "metadata": {
        "colab": {
          "base_uri": "https://localhost:8080/"
        },
        "id": "QkkpyEzBQRPS",
        "outputId": "9130b46c-b025-4dcc-aa9e-71579d8e564e"
      },
      "outputs": [
        {
          "name": "stdout",
          "output_type": "stream",
          "text": [
            "+-----------------------+\n",
            "|veh_mod_id             |\n",
            "+-----------------------+\n",
            "|MDX                    |\n",
            "|ASTRO                  |\n",
            "|F SERIES               |\n",
            "|ENTOURAGE              |\n",
            "|MAZDA3I                |\n",
            "|D-350                  |\n",
            "|6 SERIES               |\n",
            "|CAMARO                 |\n",
            "|DYNASTY                |\n",
            "|SHORT BED              |\n",
            "|944                    |\n",
            "|LIBERTY                |\n",
            "|ESCALADE               |\n",
            "|MONTE CARLO            |\n",
            "|GRAND VOYAGER SPORT VAN|\n",
            "|ENDEAVOR               |\n",
            "|SL65AMG                |\n",
            "|VOYAGER                |\n",
            "|S60                    |\n",
            "|124                    |\n",
            "+-----------------------+\n",
            "only showing top 20 rows\n",
            "\n"
          ]
        }
      ],
      "source": [
        "df_units.select('veh_mod_id').distinct().show(truncate=False)"
      ]
    },
    {
      "cell_type": "code",
      "execution_count": 77,
      "metadata": {
        "colab": {
          "base_uri": "https://localhost:8080/"
        },
        "id": "ZGgOdKotQRPS",
        "outputId": "774a640a-70b6-40b4-c365-830ad4aafb7a"
      },
      "outputs": [
        {
          "name": "stdout",
          "output_type": "stream",
          "text": [
            "+---------------------------------+\n",
            "|veh_body_styl_id                 |\n",
            "+---------------------------------+\n",
            "|BUS                              |\n",
            "|NA                               |\n",
            "|VAN                              |\n",
            "|PICKUP                           |\n",
            "|SPORT UTILITY VEHICLE            |\n",
            "|PASSENGER CAR, 4-DOOR            |\n",
            "|FIRE TRUCK                       |\n",
            "|TRUCK                            |\n",
            "|UNKNOWN                          |\n",
            "|AMBULANCE                        |\n",
            "|POLICE CAR/TRUCK                 |\n",
            "|MOTORCYCLE                       |\n",
            "|YELLOW SCHOOL BUS                |\n",
            "|POLICE MOTORCYCLE                |\n",
            "|PASSENGER CAR, 2-DOOR            |\n",
            "|TRUCK TRACTOR                    |\n",
            "|FARM EQUIPMENT                   |\n",
            "|NEV-NEIGHBORHOOD ELECTRIC VEHICLE|\n",
            "|OTHER  (EXPLAIN IN NARRATIVE)    |\n",
            "|NOT REPORTED                     |\n",
            "+---------------------------------+\n",
            "\n"
          ]
        }
      ],
      "source": [
        "df_units.select('veh_body_styl_id').distinct().show(truncate=False)"
      ]
    },
    {
      "cell_type": "code",
      "execution_count": 78,
      "metadata": {
        "colab": {
          "base_uri": "https://localhost:8080/"
        },
        "id": "iBVJ4PW9Yf1D",
        "outputId": "d59a05b5-e6a5-43d5-c234-9b5ecf2a5402"
      },
      "outputs": [
        {
          "data": {
            "text/plain": [
              "159855"
            ]
          },
          "execution_count": 78,
          "metadata": {},
          "output_type": "execute_result"
        }
      ],
      "source": [
        "df_units.dropDuplicates(['veh_lic_state_id','vin','veh_mod_year','veh_make_id']).count()"
      ]
    },
    {
      "cell_type": "code",
      "execution_count": 79,
      "metadata": {
        "colab": {
          "base_uri": "https://localhost:8080/"
        },
        "id": "MjUsf0HmYlXf",
        "outputId": "ab5346ed-8948-4885-d529-f66e904798d6"
      },
      "outputs": [
        {
          "name": "stdout",
          "output_type": "stream",
          "text": [
            "+--------+--------+-------------+-------------+----------+----------------+-----------------+------------+------------+--------------------+--------------------+--------------------+---------------+----------+-----------------+--------------------+--------------------+-----------------+--------------+--------------------+-----------------+--------------+------------------+--------------------+--------------------+--------------------+--------------------+--------------------+---------------+---------------------+---------------+------------------+--------------+-------------+--------------+-------------+---------+\n",
            "|CRASH_ID|UNIT_NBR| UNIT_DESC_ID|VEH_PARKED_FL|VEH_HNR_FL|VEH_LIC_STATE_ID|              VIN|VEH_MOD_YEAR|VEH_COLOR_ID|         VEH_MAKE_ID|          VEH_MOD_ID|    VEH_BODY_STYL_ID|EMER_RESPNDR_FL|  OWNR_ZIP|FIN_RESP_PROOF_ID|    FIN_RESP_TYPE_ID|  VEH_DMAG_AREA_1_ID|VEH_DMAG_SCL_1_ID|FORCE_DIR_1_ID|  VEH_DMAG_AREA_2_ID|VEH_DMAG_SCL_2_ID|FORCE_DIR_2_ID|VEH_INVENTORIED_FL|     VEH_TRANSP_NAME|     VEH_TRANSP_DEST|  CONTRIB_FACTR_1_ID|  CONTRIB_FACTR_2_ID| CONTRIB_FACTR_P1_ID|VEH_TRVL_DIR_ID|FIRST_HARM_EVT_INV_ID|INCAP_INJRY_CNT|NONINCAP_INJRY_CNT|POSS_INJRY_CNT|NON_INJRY_CNT|UNKN_INJRY_CNT|TOT_INJRY_CNT|DEATH_CNT|\n",
            "+--------+--------+-------------+-------------+----------+----------------+-----------------+------------+------------+--------------------+--------------------+--------------------+---------------+----------+-----------------+--------------------+--------------------+-----------------+--------------+--------------------+-----------------+--------------+------------------+--------------------+--------------------+--------------------+--------------------+--------------------+---------------+---------------------+---------------+------------------+--------------+-------------+--------------+-------------+---------+\n",
            "|15681609|       3|MOTOR VEHICLE|            Y|         N|              98|             NULL|        2000|         SIL|               ACURA|                  TL|PASSENGER CAR, 4-...|              N|     76140|                2|                  NA|FRONT END DAMAGE ...|        DAMAGED 3|            12|DISTRIBUTED RIGHT...|DAMAGED 1 MINIMUM|             6|                 N|           NOT TOWED|                NULL|                NONE|                  NA|                  NA|          NORTH|                    N|              0|                 0|             0|            0|             0|            0|        0|\n",
            "|15154204|       1|MOTOR VEHICLE|            N|         N|              98|       1.1406E+13|        1976|         WHI|       MERCEDES-BENZ|                  NA|PASSENGER CAR, 4-...|              N|     76712|                2|                  NA|FRONT END DAMAGE ...|        DAMAGED 3|            12|                  NA|               NA|            NA|                 Y|    CONTRACT WRECKER|1955 VILBIG, DALL...|FAILED TO YIELD R...|FAULTY EVASIVE AC...|                  NA|           EAST|                    Y|              0|                 0|             0|            0|             1|            0|        0|\n",
            "|15209967|       1|MOTOR VEHICLE|            N|         N|              98|1C3CDFBHXDD343926|          NA|         BLU|               DODGE|                DART|PASSENGER CAR, 4-...|              N|     49753|                1|PROOF OF LIABILIT...|BACK END DAMAGE D...|DAMAGED 1 MINIMUM|             6|                  NA|               NA|            NA|                 N|                NULL|                NULL|                NONE|                  NA|                  NA|          SOUTH|                    Y|              0|                 0|             0|            1|             0|            0|        0|\n",
            "|15130091|       1|MOTOR VEHICLE|            N|         N|              98|1C6RD6KP0CS318712|          NA|         SIL|               DODGE|            RAM 1500|              PICKUP|              N|     76102|                4|                  NA|BACK END DAMAGE D...|DAMAGED 1 MINIMUM|             6|                  NA|               NA|            NA|                 N|   DRIVEN FROM SCENE|   DRIVEN FROM SCENE|                NONE|                  NA|                  NA|          NORTH|                    Y|              0|                 0|             0|            2|             0|            0|        0|\n",
            "|14940829|       2|MOTOR VEHICLE|            N|         N|              98|1D4GP21E06B511689|        2006|         WHI|               DODGE|             CARAVAN|                 VAN|              N|     76161|                4|                  NA|BACK END DAMAGE D...|        DAMAGED 2|            NA|LEFT FRONT QUARTE...|        DAMAGED 2|            NA|                 N|         B&B WRECKER|4600 MARK IV FT. ...|                NONE|                  NA|                  NA|      SOUTHWEST|                    Y|              0|                 0|             0|            1|             0|            0|        0|\n",
            "|15333500|       1|MOTOR VEHICLE|            N|         N|              98|1DHHB58P77F585163|        2007|         SIL|               DODGE|             DURANGO|SPORT UTILITY VEH...|              N|     58704|                2|                  NA|FRONT END DAMAGE ...|        DAMAGED 4|             1|LEFT SIDE AND TOP...|        DAMAGED 4|             9|                 Y|WILSON WRECKER SE...|5724 IH-20 SWEETW...|UNDER INFLUENCE -...|FAULTY EVASIVE AC...|                  NA|      NORTHWEST|                    Y|              0|                 0|             0|            1|             0|            0|        0|\n",
            "|15632357|       3|MOTOR VEHICLE|            N|         N|              98|1FAFP40481F165881|        2001|         GRN|                FORD|             MUSTANG|PASSENGER CAR, 2-...|              N|     77396|                1|LIABILITY INSURAN...|RIGHT SIDE DAMAGE...|DAMAGED 1 MINIMUM|             5|                  NA|               NA|            NA|                 N|DRIVEN FROM SCENE...|   DRIVEN FROM SCENE|                NONE|                  NA|                  NA|           WEST|                    N|              0|                 0|             0|            1|             0|            0|        0|\n",
            "|15124468|       2|MOTOR VEHICLE|            N|         N|              98|1FAHP3FN8AW101942|          NA|         WHI|                FORD|               FOCUS|PASSENGER CAR, 4-...|              N|     79910|                1|CERTIFICATE OF SE...|RIGHT FRONT QUART...|        DAMAGED 2|             2|FRONT END (RIGHT)...|        DAMAGED 2|             1|                 N|          A&D TOWING|         8401 BOEING|                NONE|                  NA|                  NA|           EAST|                    Y|              0|                 1|             0|            0|             0|            1|        0|\n",
            "|15072201|       1|MOTOR VEHICLE|            N|         N|              98|1FCMU69K910A14655|        2001|         WHI|                FORD|             UNKNOWN|OTHER  (EXPLAIN I...|              N|     77301|                2|                  NA|FRONT END DAMAGE ...|        NO DAMAGE|            12|                  NA|               NA|            NA|                 N|                NULL|                NULL|FAILED TO CONTROL...|                  NA|  DRIVER INATTENTION|           WEST|                    Y|              0|                 0|             0|            1|             0|            0|        0|\n",
            "|15260459|       1|MOTOR VEHICLE|            N|         N|              98|1FMDU32X7NUE13367|        1992|         WHI|                FORD|            EXPLORER|SPORT UTILITY VEH...|              N|     78516|                2|                  NA|FRONT END (RIGHT)...|        DAMAGED 6|             1|FRONT END DAMAGE ...|        DAMAGED 4|            12|                 Y|UNIVERSAL AUTO CA...|230 FRONTAGE RD. ...|FLEEING OR EVADIN...|DISREGARD STOP AN...|                  NA|          NORTH|                    Y|              1|                 0|             0|            0|             0|            1|        0|\n",
            "|14941104|       2|MOTOR VEHICLE|            N|         N|              98|1FTMF1EM5DKF00697|          NA|         WHI|                FORD|                F150|              PICKUP|              N|     78249|                4|                  NA|DISTRIBUTED LEFT ...|        DAMAGED 5|             9|                  NA|               NA|            NA|                 Y|ROY'S WRECKER SER...|1506 N. LLANO ST....|                NONE|                  NA|                  NA|      NORTHEAST|                    N|              0|                 1|             0|            0|             0|            1|        0|\n",
            "|15513890|       4|MOTOR VEHICLE|            Y|         N|              98|1G2ZA5E07A4149661|          NA|         WHI|             PONTIAC|                  G6|PASSENGER CAR, 4-...|              N|     78550|                1|PROOF OF LIABILIT...|LEFT FRONT QUARTE...|DAMAGED 1 MINIMUM|            10|                  NA|               NA|            NA|                 N|                NULL|                NULL|                NONE|                  NA|                  NA|           WEST|                    N|              0|                 0|             0|            0|             0|            0|        0|\n",
            "|15112958|       2|MOTOR VEHICLE|            N|         N|              98|1GAZG1FAXE1105101|          NA|         WHI|           CHEVROLET|             EXPRESS|                 VAN|              N|      NULL|                1|CERTIFICATE OF SE...|BACK END DAMAGE C...|DAMAGED 1 MINIMUM|             6|                  NA|               NA|            NA|                 N|                NULL|                NULL|                NONE|                  NA|                  NA|           EAST|                    Y|              0|                 0|             0|            1|             0|            0|        0|\n",
            "|15241256|       1|MOTOR VEHICLE|            N|         Y|              98|1GBBS10E0J2317971|        1988|         WHI|OTHER (EXPLAIN IN...|OTHER (EXPLAIN IN...|OTHER  (EXPLAIN I...|              N|     79601|                4|                  NA|FRONT END (RIGHT)...|        DAMAGED 2|            12|UNDERCARRIAGE DAM...|        NO DAMAGE|            12|                 N|     DURANTS WRECKER|U S  POSTAL VEHIC...|OTHER (EXPLAIN IN...|                  NA|                  NA|      SOUTHEAST|                    Y|              0|                 1|             0|            0|             0|            1|        0|\n",
            "|15207002|       2|MOTOR VEHICLE|            N|         N|              98|1GBBS10E6J2301838|          NA|         WHI|                  GM|             UNKNOWN|OTHER  (EXPLAIN I...|              N|      NULL|                4|                  NA|BACK END DAMAGE D...|DAMAGED 1 MINIMUM|             6|RIGHT FRONT QUART...|DAMAGED 1 MINIMUM|             2|                 N|                NULL|           NOT TOWED|                NONE|                  NA|                  NA|          NORTH|                    Y|              0|                 0|             0|            1|             0|            0|        0|\n",
            "|15271317|       2|MOTOR VEHICLE|            Y|         N|              98|1GBBS10E8K2308100|          NA|         WHI|             UNKNOWN|             UNKNOWN|               TRUCK|              N|     77028|                2|                  NA|LEFT SIDE DAMAGE ...|        DAMAGED 2|             9|                  NA|               NA|            NA|                 N|                NULL|                NULL|                NONE|                  NA|                  NA|           WEST|                    Y|              0|                 0|             0|            0|             0|            0|        0|\n",
            "|14914111|       2|MOTOR VEHICLE|            N|         N|              98|1GBBS10EXJ2313832|        1988|         WHI|           CHEVROLET|             UNKNOWN|OTHER  (EXPLAIN I...|              N|     77007|                4|                  NA|BACK END DAMAGE D...|DAMAGED 1 MINIMUM|             6|                  NA|               NA|            NA|                 N|                NULL|                NULL|                NONE|                  NA|                  NA|          SOUTH|                    Y|              0|                 0|             1|            0|             0|            1|        0|\n",
            "|15128529|       1|MOTOR VEHICLE|            N|         N|              98|1GBCS104XR2907070|        1994|         WHI|           CHEVROLET|                 S10|OTHER  (EXPLAIN I...|              N|     77315|                1|CERTIFICATE OF SE...|LEFT FRONT QUARTE...|        DAMAGED 3|             8|                  NA|               NA|            NA|                 N|MILSTEAD WRECKER ...|2416  N. FRAIZER,...|  TURNED WHEN UNSAFE|                  NA|                  NA|      NORTHWEST|                    Y|              0|                 0|             0|            1|             0|            0|        0|\n",
            "|14971595|       2|MOTOR VEHICLE|            N|         N|              98|1GBCS10A3P2917376|        1993|         WHI|OTHER (EXPLAIN IN...|OTHER (EXPLAIN IN...|OTHER  (EXPLAIN I...|              N|     77845|                1|CERTIFICATE OF SE...|FRONT END (LEFT) ...|        DAMAGED 3|            12|                  NA|               NA|            NA|                 N|                 A-1|2130 HMP; COLLEGE...|                NONE|                  NA|                  NA|      SOUTHEAST|                    Y|              0|                 0|             0|            1|             0|            0|        0|\n",
            "|15030327|       1|MOTOR VEHICLE|            N|         N|              98|1GBCS10A4N2909932|        1992|         WHI|           CHEVROLET|                  NA|               TRUCK|              N|78284-9331|                4|                  NA|FRONT END (LEFT) ...|        DAMAGED 4|            11|                  NA|               NA|            NA|                 N|                NULL|                NULL|  DRIVER INATTENTION|  TURNED WHEN UNSAFE|CHANGED LANE WHEN...|          NORTH|                    Y|              0|                 0|             0|            1|             0|            0|        0|\n",
            "+--------+--------+-------------+-------------+----------+----------------+-----------------+------------+------------+--------------------+--------------------+--------------------+---------------+----------+-----------------+--------------------+--------------------+-----------------+--------------+--------------------+-----------------+--------------+------------------+--------------------+--------------------+--------------------+--------------------+--------------------+---------------+---------------------+---------------+------------------+--------------+-------------+--------------+-------------+---------+\n",
            "only showing top 20 rows\n",
            "\n"
          ]
        }
      ],
      "source": [
        "df_units.dropDuplicates(['veh_lic_state_id','vin','veh_mod_year','veh_make_id']).show(truncate=False)"
      ]
    },
    {
      "cell_type": "code",
      "execution_count": 81,
      "metadata": {
        "colab": {
          "base_uri": "https://localhost:8080/"
        },
        "id": "qc18zvEPQRPY",
        "outputId": "a890a235-1b1e-4e41-9c32-578ea357fe75"
      },
      "outputs": [
        {
          "name": "stdout",
          "output_type": "stream",
          "text": [
            "+----------------------------------------+\n",
            "|fin_resp_type_id                        |\n",
            "+----------------------------------------+\n",
            "|INSURANCE BINDER                        |\n",
            "|LIABILITY INSURANCE POLICY              |\n",
            "|NA                                      |\n",
            "|CERTIFICATE OF SELF-INSURANCE           |\n",
            "|CERTIFICATE OF DEPOSIT WITH COUNTY JUDGE|\n",
            "|CERTIFICATE OF DEPOSIT WITH COMPTROLLER |\n",
            "|SURETY BOND                             |\n",
            "|PROOF OF LIABILITY INSURANCE            |\n",
            "+----------------------------------------+\n",
            "\n"
          ]
        }
      ],
      "source": [
        "df_units.select('fin_resp_type_id').distinct().show(truncate=False)"
      ]
    },
    {
      "cell_type": "code",
      "execution_count": 82,
      "metadata": {
        "colab": {
          "base_uri": "https://localhost:8080/"
        },
        "id": "o8__thIXQRPZ",
        "outputId": "35f1f31d-332e-4b2d-c1a8-04194be414e0"
      },
      "outputs": [
        {
          "name": "stdout",
          "output_type": "stream",
          "text": [
            "+-----------------+\n",
            "|veh_dmag_scl_1_id|\n",
            "+-----------------+\n",
            "|DAMAGED 4        |\n",
            "|INVALID VALUE    |\n",
            "|NA               |\n",
            "|DAMAGED 5        |\n",
            "|DAMAGED 1 MINIMUM|\n",
            "|DAMAGED 3        |\n",
            "|NO DAMAGE        |\n",
            "|DAMAGED 7 HIGHEST|\n",
            "|DAMAGED 2        |\n",
            "|DAMAGED 6        |\n",
            "+-----------------+\n",
            "\n"
          ]
        }
      ],
      "source": [
        "df_units.select('veh_dmag_scl_1_id').distinct().show(truncate=False)"
      ]
    },
    {
      "cell_type": "code",
      "execution_count": 83,
      "metadata": {
        "colab": {
          "base_uri": "https://localhost:8080/"
        },
        "id": "DCCFeViQQRPa",
        "outputId": "719073ed-2955-4e93-992b-7bb3959f8a8b"
      },
      "outputs": [
        {
          "name": "stdout",
          "output_type": "stream",
          "text": [
            "+-----------------+\n",
            "|veh_dmag_scl_2_id|\n",
            "+-----------------+\n",
            "|DAMAGED 4        |\n",
            "|INVALID VALUE    |\n",
            "|NA               |\n",
            "|DAMAGED 5        |\n",
            "|DAMAGED 1 MINIMUM|\n",
            "|DAMAGED 3        |\n",
            "|NO DAMAGE        |\n",
            "|DAMAGED 7 HIGHEST|\n",
            "|DAMAGED 2        |\n",
            "|DAMAGED 6        |\n",
            "+-----------------+\n",
            "\n"
          ]
        }
      ],
      "source": [
        "df_units.select('veh_dmag_scl_2_id').distinct().show(truncate=False)"
      ]
    },
    {
      "cell_type": "code",
      "execution_count": 84,
      "metadata": {
        "colab": {
          "base_uri": "https://localhost:8080/"
        },
        "id": "bl-p6vviQRPb",
        "outputId": "0f378b34-5d9d-4dd5-ada8-8f2b637886b8"
      },
      "outputs": [
        {
          "name": "stdout",
          "output_type": "stream",
          "text": [
            "+----------------------------------------+\n",
            "|contrib_factr_1_id                      |\n",
            "+----------------------------------------+\n",
            "|FAILED TO STOP FOR TRAIN                |\n",
            "|OVERTAKE AND PASS INSUFFICIENT CLEARANCE|\n",
            "|UNDER INFLUENCE - ALCOHOL               |\n",
            "|WRONG SIDE - NOT PASSING                |\n",
            "|TAKING MEDICATION (EXPLAIN IN NARRATIVE)|\n",
            "|IMPROPER START FROM PARKED POSITION     |\n",
            "|DISTRACTION IN VEHICLE                  |\n",
            "|UNDER INFLUENCE - DRUG                  |\n",
            "|FAILED TO YIELD ROW - TURN ON RED       |\n",
            "|NA                                      |\n",
            "|PARKED IN TRAFFIC LANE                  |\n",
            "|ILL (EXPLAIN IN NARRATIVE)              |\n",
            "|FAILED TO YIELD ROW - STOP SIGN         |\n",
            "|UNSAFE SPEED                            |\n",
            "|FAILED TO STOP AT PROPER PLACE          |\n",
            "|DISREGARD STOP SIGN OR LIGHT            |\n",
            "|FAILED TO YIELD ROW - PRIVATE DRIVE     |\n",
            "|PASSED ON RIGHT SHOULDER                |\n",
            "|DISREGARD TURN MARKS AT INTERSECTION    |\n",
            "|FAILED TO PASS TO LEFT SAFELY           |\n",
            "+----------------------------------------+\n",
            "only showing top 20 rows\n",
            "\n"
          ]
        }
      ],
      "source": [
        "df_units.select('contrib_factr_1_id').distinct().show(truncate=False)"
      ]
    },
    {
      "cell_type": "code",
      "execution_count": 85,
      "metadata": {
        "colab": {
          "base_uri": "https://localhost:8080/"
        },
        "id": "tke2gsLuQRPb",
        "outputId": "e43d9cc1-0c49-4ae7-ab43-9a5c6c9be5a6"
      },
      "outputs": [
        {
          "name": "stdout",
          "output_type": "stream",
          "text": [
            "+----------------------------------------+\n",
            "|contrib_factr_2_id                      |\n",
            "+----------------------------------------+\n",
            "|FAILED TO STOP FOR TRAIN                |\n",
            "|OVERTAKE AND PASS INSUFFICIENT CLEARANCE|\n",
            "|UNDER INFLUENCE - ALCOHOL               |\n",
            "|WRONG SIDE - NOT PASSING                |\n",
            "|TAKING MEDICATION (EXPLAIN IN NARRATIVE)|\n",
            "|IMPROPER START FROM PARKED POSITION     |\n",
            "|DISTRACTION IN VEHICLE                  |\n",
            "|UNDER INFLUENCE - DRUG                  |\n",
            "|FAILED TO YIELD ROW - TURN ON RED       |\n",
            "|NA                                      |\n",
            "|PARKED IN TRAFFIC LANE                  |\n",
            "|ILL (EXPLAIN IN NARRATIVE)              |\n",
            "|FAILED TO YIELD ROW - STOP SIGN         |\n",
            "|UNSAFE SPEED                            |\n",
            "|FAILED TO STOP AT PROPER PLACE          |\n",
            "|FAILED TO YIELD ROW - PRIVATE DRIVE     |\n",
            "|DISREGARD STOP SIGN OR LIGHT            |\n",
            "|PASSED ON RIGHT SHOULDER                |\n",
            "|DISREGARD TURN MARKS AT INTERSECTION    |\n",
            "|FAILED TO PASS TO LEFT SAFELY           |\n",
            "+----------------------------------------+\n",
            "only showing top 20 rows\n",
            "\n"
          ]
        }
      ],
      "source": [
        "df_units.select('contrib_factr_2_id').distinct().show(truncate=False)"
      ]
    },
    {
      "cell_type": "code",
      "execution_count": 86,
      "metadata": {
        "colab": {
          "base_uri": "https://localhost:8080/"
        },
        "id": "wqkCqlUCQRPb",
        "outputId": "039c14c6-ff17-4f6a-bd61-8f55cf7ee184"
      },
      "outputs": [
        {
          "name": "stdout",
          "output_type": "stream",
          "text": [
            "+----------------------------------------+\n",
            "|contrib_factr_p1_id                     |\n",
            "+----------------------------------------+\n",
            "|OVERTAKE AND PASS INSUFFICIENT CLEARANCE|\n",
            "|UNDER INFLUENCE - ALCOHOL               |\n",
            "|WRONG SIDE - NOT PASSING                |\n",
            "|TAKING MEDICATION (EXPLAIN IN NARRATIVE)|\n",
            "|IMPROPER START FROM PARKED POSITION     |\n",
            "|DISTRACTION IN VEHICLE                  |\n",
            "|UNDER INFLUENCE - DRUG                  |\n",
            "|FAILED TO YIELD ROW - TURN ON RED       |\n",
            "|NA                                      |\n",
            "|PARKED IN TRAFFIC LANE                  |\n",
            "|ILL (EXPLAIN IN NARRATIVE)              |\n",
            "|FAILED TO YIELD ROW - STOP SIGN         |\n",
            "|UNSAFE SPEED                            |\n",
            "|FAILED TO STOP AT PROPER PLACE          |\n",
            "|FAILED TO YIELD ROW - PRIVATE DRIVE     |\n",
            "|DISREGARD STOP SIGN OR LIGHT            |\n",
            "|PASSED ON RIGHT SHOULDER                |\n",
            "|DISREGARD TURN MARKS AT INTERSECTION    |\n",
            "|FAILED TO PASS TO LEFT SAFELY           |\n",
            "|LOAD NOT SECURED                        |\n",
            "+----------------------------------------+\n",
            "only showing top 20 rows\n",
            "\n"
          ]
        }
      ],
      "source": [
        "df_units.select('contrib_factr_p1_id').distinct().show(truncate=False)"
      ]
    },
    {
      "cell_type": "code",
      "execution_count": 87,
      "metadata": {
        "colab": {
          "base_uri": "https://localhost:8080/"
        },
        "id": "eKfXMUkoQRPd",
        "outputId": "3bc78b64-4c15-4597-a0f2-5bcca3291cd4"
      },
      "outputs": [
        {
          "name": "stdout",
          "output_type": "stream",
          "text": [
            "+-------------+\n",
            "|tot_injry_cnt|\n",
            "+-------------+\n",
            "|1            |\n",
            "|6            |\n",
            "|3            |\n",
            "|5            |\n",
            "|15           |\n",
            "|9            |\n",
            "|4            |\n",
            "|7            |\n",
            "|10           |\n",
            "|11           |\n",
            "|2            |\n",
            "|0            |\n",
            "|31           |\n",
            "|8            |\n",
            "+-------------+\n",
            "\n"
          ]
        }
      ],
      "source": [
        "df_units.select('tot_injry_cnt').distinct().show(truncate=False)"
      ]
    },
    {
      "cell_type": "code",
      "execution_count": 88,
      "metadata": {
        "colab": {
          "base_uri": "https://localhost:8080/"
        },
        "id": "Y5TVu1_tQRPd",
        "outputId": "223117e5-15ec-4744-b72b-7941c144f790"
      },
      "outputs": [
        {
          "name": "stdout",
          "output_type": "stream",
          "text": [
            "+---------+\n",
            "|death_cnt|\n",
            "+---------+\n",
            "|1        |\n",
            "|3        |\n",
            "|4        |\n",
            "|2        |\n",
            "|0        |\n",
            "+---------+\n",
            "\n"
          ]
        }
      ],
      "source": [
        "df_units.select('death_cnt').distinct().show(truncate=False)"
      ]
    }
  ],
  "metadata": {
    "colab": {
      "provenance": []
    },
    "kernelspec": {
      "display_name": "Python 3 (ipykernel)",
      "language": "python",
      "name": "python3"
    },
    "language_info": {
      "codemirror_mode": {
        "name": "ipython",
        "version": 3
      },
      "file_extension": ".py",
      "mimetype": "text/x-python",
      "name": "python",
      "nbconvert_exporter": "python",
      "pygments_lexer": "ipython3",
      "version": "3.11.5"
    }
  },
  "nbformat": 4,
  "nbformat_minor": 0
}
