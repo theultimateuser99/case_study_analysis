{
  "cells": [
    {
      "cell_type": "code",
      "execution_count": 1,
      "metadata": {
        "colab": {
          "base_uri": "https://localhost:8080/"
        },
        "id": "Y2JIRJi-5X8w",
        "outputId": "84d1d47b-07f7-47ec-a894-28128dbeb78d"
      },
      "outputs": [
        {
          "name": "stdout",
          "output_type": "stream",
          "text": [
            "Collecting pyspark\n",
            "  Downloading pyspark-3.5.0.tar.gz (316.9 MB)\n",
            "\u001b[2K     \u001b[90m━━━━━━━━━━━━━━━━━━━━━━━━━━━━━━━━━━━━━━━━\u001b[0m \u001b[32m316.9/316.9 MB\u001b[0m \u001b[31m4.4 MB/s\u001b[0m eta \u001b[36m0:00:00\u001b[0m\n",
            "\u001b[?25h  Preparing metadata (setup.py) ... \u001b[?25l\u001b[?25hdone\n",
            "Requirement already satisfied: py4j==0.10.9.7 in /usr/local/lib/python3.10/dist-packages (from pyspark) (0.10.9.7)\n",
            "Building wheels for collected packages: pyspark\n",
            "  Building wheel for pyspark (setup.py) ... \u001b[?25l\u001b[?25hdone\n",
            "  Created wheel for pyspark: filename=pyspark-3.5.0-py2.py3-none-any.whl size=317425345 sha256=525b3e39f227612acbf6a1530f2d7ce04b9d67c2359900628dd82f64573023d7\n",
            "  Stored in directory: /root/.cache/pip/wheels/41/4e/10/c2cf2467f71c678cfc8a6b9ac9241e5e44a01940da8fbb17fc\n",
            "Successfully built pyspark\n",
            "Installing collected packages: pyspark\n",
            "Successfully installed pyspark-3.5.0\n"
          ]
        }
      ],
      "source": [
        "!pip install pyspark"
      ]
    },
    {
      "cell_type": "code",
      "execution_count": 2,
      "metadata": {
        "id": "pYY-nLYr5VFh"
      },
      "outputs": [],
      "source": [
        "from pyspark.sql import SparkSession, Window\n",
        "from pyspark.sql.functions import *"
      ]
    },
    {
      "cell_type": "code",
      "execution_count": 3,
      "metadata": {
        "id": "6UWAXoPF5Vpu"
      },
      "outputs": [],
      "source": [
        "spark = SparkSession.builder.appName(\"case_study_solution\").master(\"local[*]\").getOrCreate()"
      ]
    },
    {
      "cell_type": "code",
      "execution_count": 35,
      "metadata": {
        "id": "BU6x0vEz5sBx"
      },
      "outputs": [],
      "source": [
        "data_source_path = 'data/Data/'\n",
        "df_charge = spark.read.csv(data_source_path+\"Charges_use.csv\", header=True, inferSchema=True)\n",
        "df_damage = spark.read.csv(data_source_path+\"Damages_use.csv\", header=True, inferSchema=True)\n",
        "df_endorse = spark.read.csv(data_source_path+\"Endorse_use.csv\", header=True, inferSchema=True)\n",
        "df_person = spark.read.csv(data_source_path+\"Primary_Person_use.csv\", header=True, inferSchema=True)\n",
        "df_restrict = spark.read.csv(data_source_path+\"Restrict_use.csv\", header=True, inferSchema=True)\n",
        "df_units = spark.read.csv(data_source_path+\"Units_use.csv\", header=True, inferSchema=True)"
      ]
    },
    {
      "cell_type": "code",
      "execution_count": 46,
      "metadata": {
        "id": "mbj73ZWNA02z"
      },
      "outputs": [],
      "source": [
        "# Assuming these set of columns can uniquely identify a vehicle\n",
        "veh_attribute_cols = ['veh_lic_state_id','vin','veh_mod_year','veh_make_id']"
      ]
    },
    {
      "cell_type": "code",
      "execution_count": 115,
      "metadata": {
        "colab": {
          "base_uri": "https://localhost:8080/"
        },
        "id": "iesOCMV-51hf",
        "outputId": "ab0cc571-a91f-49e5-e7ba-12f88c9a34f7"
      },
      "outputs": [
        {
          "data": {
            "text/plain": [
              "0"
            ]
          },
          "execution_count": 115,
          "metadata": {},
          "output_type": "execute_result"
        }
      ],
      "source": [
        "# Analysis Q1 ------------------------\n",
        "\n",
        "df_person_male_killed_more_than_2 = df_person\\\n",
        "  .dropDuplicates(['crash_id', 'unit_nbr'])\\\n",
        "  .where((upper(col('prsn_gndr_id'))=='MALE')\n",
        "  & (upper(col('prsn_injry_sev_id'))=='KILLED'))\\\n",
        "  .groupBy('crash_id').agg(count('*').alias('count_of_males_killed'))\\\n",
        "  .filter(col('count_of_males_killed')>2)\n",
        "\n",
        "df_person_male_killed_more_than_2.count()"
      ]
    },
    {
      "cell_type": "code",
      "execution_count": 116,
      "metadata": {
        "colab": {
          "base_uri": "https://localhost:8080/"
        },
        "id": "uzlGHirj58nu",
        "outputId": "f9218ea1-2aa0-48de-84bd-8f3652fde580"
      },
      "outputs": [
        {
          "data": {
            "text/plain": [
              "770"
            ]
          },
          "execution_count": 116,
          "metadata": {},
          "output_type": "execute_result"
        }
      ],
      "source": [
        "# Analysis Q2 -----------------------\n",
        "\n",
        "df_units_2_wheeler = df_units\\\n",
        "  .dropDuplicates(['crash_id', 'unit_nbr'])\\\n",
        "  .where(upper(col('veh_body_styl_id')).contains('MOTORCYCLE'))\\\n",
        "  .dropDuplicates(veh_attribute_cols)\n",
        "\n",
        "df_units_2_wheeler.count()"
      ]
    },
    {
      "cell_type": "code",
      "execution_count": 117,
      "metadata": {
        "colab": {
          "base_uri": "https://localhost:8080/"
        },
        "id": "hW0K1rbjLbFC",
        "outputId": "8e6a225a-5fd7-405f-a4ee-3df97f521c64"
      },
      "outputs": [
        {
          "name": "stdout",
          "output_type": "stream",
          "text": [
            "+-----------+-----+\n",
            "|veh_make_id|count|\n",
            "+-----------+-----+\n",
            "|     NISSAN|    4|\n",
            "|  CHEVROLET|    3|\n",
            "|       FORD|    2|\n",
            "|      HONDA|    2|\n",
            "|    PONTIAC|    1|\n",
            "+-----------+-----+\n",
            "\n"
          ]
        }
      ],
      "source": [
        "# Analysis Q3 -----------\n",
        "\n",
        "df_units_filtered = df_units\\\n",
        "  .dropDuplicates(['crash_id', 'unit_nbr'])\\\n",
        "  .where(upper(col('veh_body_styl_id')).contains('CAR'))\n",
        "\n",
        "df_person_filtered = df_person\\\n",
        "  .dropDuplicates(['crash_id', 'unit_nbr'])\\\n",
        "  .where((upper(col('prsn_type_id'))=='DRIVER')\n",
        "  & (upper(col('prsn_airbag_id'))=='NOT DEPLOYED')\n",
        "  & (upper(col('prsn_injry_sev_id'))=='KILLED'))\n",
        "\n",
        "df_person_unit_merged = df_units_filtered\\\n",
        "  .join(df_person_filtered, ['crash_id', 'unit_nbr'], 'inner')\\\n",
        "  .dropDuplicates(veh_attribute_cols)\\\n",
        "  .groupBy('veh_make_id').count().orderBy(col('count').desc()).limit(5)\n",
        "\n",
        "df_person_unit_merged.show()"
      ]
    },
    {
      "cell_type": "code",
      "execution_count": 118,
      "metadata": {
        "colab": {
          "base_uri": "https://localhost:8080/"
        },
        "id": "hRKugwW6PQGi",
        "outputId": "57007ccc-3ff6-450a-c9f4-3c06f0af3f91"
      },
      "outputs": [
        {
          "data": {
            "text/plain": [
              "2502"
            ]
          },
          "execution_count": 118,
          "metadata": {},
          "output_type": "execute_result"
        }
      ],
      "source": [
        "# Analysis Q4 ------------\n",
        "\n",
        "df_units_filtered = df_units\\\n",
        "  .dropDuplicates(['crash_id', 'unit_nbr'])\\\n",
        "  .where(upper(col('veh_hnr_fl'))=='Y')\\\n",
        "  .drop('death_cnt','incap_injry_cnt',\n",
        "        'non_injry_cnt','nonincap_injry_cnt',\n",
        "        'poss_injry_cnt','tot_injry_cnt','unkn_injry_cnt')\n",
        "        # dropping the common columns in df_person & df_units\n",
        "\n",
        "\n",
        "df_person_filtered = df_person\\\n",
        "  .dropDuplicates(['crash_id', 'unit_nbr'])\\\n",
        "  .where(upper(col('prsn_type_id')).contains('DRIVER')\n",
        "  & (upper(col('drvr_lic_cls_id')).contains('CLASS')\n",
        "  | upper(col('drvr_lic_cls_id')).contains('OTHER')))\n",
        "\n",
        "df_person_unit_merged = df_units_filtered\\\n",
        "  .join(df_person_filtered, ['crash_id', 'unit_nbr'], 'inner')\\\n",
        "  .dropDuplicates(veh_attribute_cols)\n",
        "\n",
        "df_person_unit_merged.count()"
      ]
    },
    {
      "cell_type": "code",
      "execution_count": 119,
      "metadata": {
        "colab": {
          "base_uri": "https://localhost:8080/"
        },
        "id": "KgwO_zqPhwx6",
        "outputId": "30d95582-c439-4f0d-f64d-b6a5cefe1a75"
      },
      "outputs": [
        {
          "name": "stdout",
          "output_type": "stream",
          "text": [
            "+-----------------+------------------+\n",
            "|drvr_lic_state_id|count_of_accidents|\n",
            "+-----------------+------------------+\n",
            "|            Texas|             34842|\n",
            "+-----------------+------------------+\n",
            "\n"
          ]
        }
      ],
      "source": [
        "# Analysis Q5 ------------------\n",
        "\n",
        "df_person_filtered = df_person\\\n",
        "  .dropDuplicates(['crash_id', 'unit_nbr'])\n",
        "\n",
        "df_crash_with_no_female = df_person_filtered\\\n",
        "  .withColumn('count_of_females',when(upper(col('PRSN_GNDR_ID'))=='FEMALE',1).otherwise(0))\\\n",
        "  .groupBy(col('crash_id'))\\\n",
        "  .agg(sum(col('count_of_females')).alias('count_of_females_per_crash_id'))\\\n",
        "  .filter(col('count_of_females_per_crash_id')==0)\\\n",
        "\n",
        "df_state_most_accidents = df_crash_with_no_female\\\n",
        "  .join(df_person_filtered,'crash_id', 'inner')\\\n",
        "  .groupBy('drvr_lic_state_id')\\\n",
        "  .agg(countDistinct('crash_id').alias('count_of_accidents'))\\\n",
        "  .orderBy(col(\"count_of_accidents\").desc())\n",
        "\n",
        "df_state_most_accidents.limit(1).show()"
      ]
    },
    {
      "cell_type": "code",
      "execution_count": 67,
      "metadata": {
        "colab": {
          "base_uri": "https://localhost:8080/"
        },
        "id": "ROyOqcVSvAsB",
        "outputId": "03e2e46e-7dbd-40ea-d505-c304dd1b4000"
      },
      "outputs": [
        {
          "name": "stdout",
          "output_type": "stream",
          "text": [
            "+-----------+------------------------------------+\n",
            "|veh_make_id|death_plus_injry_cnt_per_veh_make_id|\n",
            "+-----------+------------------------------------+\n",
            "|     TOYOTA|                                4227|\n",
            "|      DODGE|                                3136|\n",
            "|     NISSAN|                                3113|\n",
            "+-----------+------------------------------------+\n",
            "\n"
          ]
        }
      ],
      "source": [
        "# Analysis Q6 ------------\n",
        "\n",
        "df_death_plus_injury_counts = df_units\\\n",
        "  .dropDuplicates(['crash_id','unit_nbr'])\\\n",
        "  .withColumn(\"death_plus_injury_cnt\", col(\"tot_injry_cnt\") + col(\"death_cnt\"))\\\n",
        "  .groupBy(\"veh_make_id\")\\\n",
        "  .agg(sum(col('death_plus_injury_cnt')).alias('death_plus_injry_cnt_per_veh_make_id'))\n",
        "\n",
        "window_spec = Window.orderBy(col('death_plus_injry_cnt_per_veh_make_id').desc())\n",
        "\n",
        "df_top_3_to_5_make_id = df_death_plus_injury_counts\\\n",
        "  .withColumn('rn', row_number().over(window_spec))\\\n",
        "  .orderBy(col('death_plus_injry_cnt_per_veh_make_id').desc())\\\n",
        "  .filter(col(\"rn\").isin(3,4,5))\\\n",
        "  .drop('rn')\n",
        "\n",
        "df_top_3_to_5_make_id.show()"
      ]
    },
    {
      "cell_type": "code",
      "execution_count": 120,
      "metadata": {
        "colab": {
          "base_uri": "https://localhost:8080/"
        },
        "id": "_kwjRrhp5DHc",
        "outputId": "5799eda2-cfc5-4848-d6a2-d0abf7272e49"
      },
      "outputs": [
        {
          "name": "stdout",
          "output_type": "stream",
          "text": [
            "+---------------------------------+-----------------+-----+\n",
            "|veh_body_styl_id                 |prsn_ethnicity_id|count|\n",
            "+---------------------------------+-----------------+-----+\n",
            "|PASSENGER CAR, 4-DOOR            |WHITE            |25341|\n",
            "|PICKUP                           |WHITE            |18959|\n",
            "|SPORT UTILITY VEHICLE            |WHITE            |15484|\n",
            "|PASSENGER CAR, 2-DOOR            |WHITE            |4711 |\n",
            "|VAN                              |WHITE            |2179 |\n",
            "|TRUCK                            |WHITE            |1482 |\n",
            "|TRUCK TRACTOR                    |WHITE            |1278 |\n",
            "|MOTORCYCLE                       |WHITE            |494  |\n",
            "|POLICE CAR/TRUCK                 |WHITE            |182  |\n",
            "|OTHER  (EXPLAIN IN NARRATIVE)    |WHITE            |161  |\n",
            "|BUS                              |BLACK            |87   |\n",
            "|YELLOW SCHOOL BUS                |BLACK            |53   |\n",
            "|AMBULANCE                        |WHITE            |48   |\n",
            "|FIRE TRUCK                       |WHITE            |37   |\n",
            "|FARM EQUIPMENT                   |WHITE            |21   |\n",
            "|NEV-NEIGHBORHOOD ELECTRIC VEHICLE|WHITE            |3    |\n",
            "|POLICE MOTORCYCLE                |WHITE            |2    |\n",
            "+---------------------------------+-----------------+-----+\n",
            "\n"
          ]
        }
      ],
      "source": [
        "# Analysis Q7 ----------\n",
        "\n",
        "df_units_filtered = df_units\\\n",
        "  .dropDuplicates(['crash_id','unit_nbr'])\\\n",
        "  .where(~upper(col('veh_body_styl_id')).isin('NA', 'UNKNOWN', 'NOT REPORTED'))\n",
        "\n",
        "df_person_filtered = df_person\\\n",
        "  .dropDuplicates(['crash_id','unit_nbr'])\\\n",
        "  .where(~upper(col('prsn_ethnicity_id')).isin('NA', 'UNKNOWN'))\n",
        "\n",
        "df_person_unit_merged = df_units_filtered\\\n",
        "  .join(df_person_filtered, ['crash_id', 'unit_nbr'], 'inner')\\\n",
        "  .groupBy(['veh_body_styl_id', 'prsn_ethnicity_id'])\\\n",
        "  .agg(count('*').alias('count'))\n",
        "\n",
        "window_spec = Window.partitionBy('veh_body_styl_id').orderBy(col('count').desc())\n",
        "\n",
        "df_top_ethnic_user_group = df_person_unit_merged\\\n",
        "  .withColumn('rn', row_number().over(window_spec))\\\n",
        "  .filter(col('rn')==1).drop('rn')\\\n",
        "  .orderBy(col('count').desc())\n",
        "\n",
        "df_top_ethnic_user_group.show(truncate=False)"
      ]
    },
    {
      "cell_type": "code",
      "execution_count": 121,
      "metadata": {
        "colab": {
          "base_uri": "https://localhost:8080/"
        },
        "id": "y_EcCb9POd2M",
        "outputId": "daa4386a-4a6d-4ce0-8466-1d6a5ba949e0"
      },
      "outputs": [
        {
          "name": "stdout",
          "output_type": "stream",
          "text": [
            "+--------+-----------+\n",
            "|drvr_zip|crash_count|\n",
            "+--------+-----------+\n",
            "|   78521|         76|\n",
            "|   78130|         57|\n",
            "|   78550|         56|\n",
            "|   78741|         55|\n",
            "|   76010|         54|\n",
            "+--------+-----------+\n",
            "\n"
          ]
        }
      ],
      "source": [
        "# Analysis Q8 -----------\n",
        "\n",
        "df_person_filtered = df_person\\\n",
        "  .dropDuplicates(['crash_id','unit_nbr'])\\\n",
        "  .where(col('DRVR_ZIP').isNotNull() & ~upper(col('drvr_zip')).isin('UNKNOWN'))\n",
        "\n",
        "df_units_filtered = df_units\\\n",
        "  .dropDuplicates(['crash_id','unit_nbr'])\n",
        "\n",
        "df_person_unit_merged = df_units_filtered\\\n",
        "  .join(df_person_filtered, ['crash_id', 'unit_nbr'], 'inner')\\\n",
        "  .where(upper(col('contrib_factr_1_id')).contains('ALCOHOL')\n",
        "  | upper(col('contrib_factr_2_id')).contains('ALCOHOL')\n",
        "  | upper(col('contrib_factr_p1_id')).contains('ALCOHOL')\n",
        "  | upper(col('contrib_factr_1_id')).contains('DRINKING')\n",
        "  | upper(col('contrib_factr_2_id')).contains('DRINKING')\n",
        "  | upper(col('contrib_factr_p1_id')).contains('DRINKING')\n",
        "  | upper(col(\"prsn_alc_rslt_id\")).contains('POSITIVE'))\\\n",
        "  .groupBy('drvr_zip')\\\n",
        "  .agg(countDistinct('crash_id').alias('crash_count'))\\\n",
        "  .orderBy(col('crash_count').desc()).limit(5)\n",
        "\n",
        "df_person_unit_merged.show()"
      ]
    },
    {
      "cell_type": "code",
      "execution_count": 129,
      "metadata": {
        "colab": {
          "base_uri": "https://localhost:8080/"
        },
        "id": "cbKMVeNkPnsl",
        "outputId": "f50fbaac-b144-44cb-e7ba-180d2124ef3c"
      },
      "outputs": [
        {
          "data": {
            "text/plain": [
              "10"
            ]
          },
          "execution_count": 129,
          "metadata": {},
          "output_type": "execute_result"
        }
      ],
      "source": [
        "# Analysis Q9 ---------------\n",
        "\n",
        "df_units_filtered = df_units\\\n",
        "  .dropDuplicates(['crash_id','unit_nbr'])\n",
        "\n",
        "df_damage_filtered = df_damage\\\n",
        "  .dropDuplicates(['crash_id'])\n",
        "\n",
        "df_units_damage_merged = df_units_filtered\\\n",
        "  .join(df_damage_filtered,'crash_id','inner')\\\n",
        "  .where(upper(col('damaged_property')).contains('NONE')\n",
        "  | upper(col('damaged_property')).contains('NO DAMAGE'))\\\n",
        "  .filter(((upper(col('veh_dmag_scl_1_id')) > \"DAMAGED 4\") & (~upper(col('veh_dmag_scl_1_id')).isin(\"NA\", \"NO DAMAGE\", \"INVALID VALUE\")))\n",
        "  | ((upper(col('veh_dmag_scl_2_id')) > \"DAMAGED 4\") & (~upper(col('veh_dmag_scl_2_id')).isin(\"NA\", \"NO DAMAGE\", \"INVALID VALUE\"))))\\\n",
        "  .filter(upper(col('fin_resp_type_id')).contains('INSURANCE'))\\\n",
        "  .dropDuplicates(['crash_id'])\\\n",
        "  .orderBy(col(\"crash_id\").desc())\n",
        "\n",
        "df_units_damage_merged.count()"
      ]
    },
    {
      "cell_type": "code",
      "execution_count": 133,
      "metadata": {
        "colab": {
          "base_uri": "https://localhost:8080/"
        },
        "id": "7f0Whq1DacyH",
        "outputId": "bdf3680d-5569-4fc2-d08d-a6c61e7b6883"
      },
      "outputs": [
        {
          "name": "stdout",
          "output_type": "stream",
          "text": [
            "['WHI', 'BLK', 'SIL', 'GRY', 'BLU', 'RED', 'GRN', 'MAR', 'TAN', 'GLD']\n",
            "['TX', 'UN', 'OK', 'LA', 'NM', 'MX', 'CA', 'FL', 'AR', 'IN', 'IL', 'TN', 'AZ', 'MS', 'CO', 'GA', 'KS', 'MO', 'NC', 'AL', 'OH', 'MI', 'MN', 'VA', 'WI']\n",
            "+-----------+-------------+\n",
            "|veh_make_id|offence_count|\n",
            "+-----------+-------------+\n",
            "|       FORD|         3871|\n",
            "|  CHEVROLET|         3372|\n",
            "|     TOYOTA|         2108|\n",
            "|      DODGE|         1752|\n",
            "|      HONDA|         1290|\n",
            "+-----------+-------------+\n",
            "\n"
          ]
        }
      ],
      "source": [
        "# Analysis Q10 ------------------\n",
        "\n",
        "df_units_filtered = df_units\\\n",
        "  .dropDuplicates(['crash_id', 'unit_nbr'])\n",
        "\n",
        "df_charge_filtered = df_charge\\\n",
        "  .dropDuplicates(['crash_id', 'unit_nbr', 'prsn_nbr'])\n",
        "\n",
        "df_person_filtered = df_person\\\n",
        "  .dropDuplicates(['crash_id', 'unit_nbr'])\n",
        "\n",
        "df_top_10_vehicle_colors = df_units_filtered\\\n",
        "  .where(~col('veh_color_id').isin('NA')\n",
        "   & col('veh_color_id').cast(\"int\").isNull())\\\n",
        "  .groupBy('veh_color_id').agg(count('*').alias('color_count')).orderBy(col('color_count').desc()).limit(10)\n",
        "\n",
        "top_10_vehicle_colors = [row[\"veh_color_id\"] for row in df_top_10_vehicle_colors.collect()]\n",
        "print(top_10_vehicle_colors)\n",
        "\n",
        "df_top_25_states = df_units_filtered\\\n",
        "  .where(~col('veh_lic_state_id').isin('NA')\\\n",
        "  & col('veh_lic_state_id').cast(\"int\").isNull())\\\n",
        "  .groupBy('veh_lic_state_id').agg(count('*').alias('state_count')).orderBy(col('state_count').desc()).limit(25)\n",
        "\n",
        "top_25_states = [row[\"veh_lic_state_id\"] for row in df_top_25_states.collect()]\n",
        "print(top_25_states)\n",
        "\n",
        "df_charge_person_units_merged = df_charge_filtered\\\n",
        "  .join(df_person_filtered, ['crash_id', 'unit_nbr', 'prsn_nbr'], 'inner')\\\n",
        "  .join(df_units_filtered, ['crash_id', 'unit_nbr'], 'inner')\\\n",
        "  .where(col('veh_color_id').isin(top_10_vehicle_colors)\n",
        "  & col('veh_lic_state_id').isin(top_25_states)\n",
        "  & upper(col('prsn_type_id')).contains('DRIVER')\n",
        "  & (upper(col('drvr_lic_cls_id')).contains('CLASS') | upper(col('drvr_lic_cls_id')).contains('OTHER'))\n",
        "  & upper(col('charge')).contains('SPEED'))\\\n",
        "  .groupBy('veh_make_id').agg(count('*').alias('offence_count'))\\\n",
        "  .orderBy(col('offence_count').desc()).limit(5)\n",
        "\n",
        "df_charge_person_units_merged.show()"
      ]
    },
    {
      "cell_type": "code",
      "execution_count": null,
      "metadata": {
        "id": "oPAkODMu4ZBb"
      },
      "outputs": [],
      "source": []
    }
  ],
  "metadata": {
    "colab": {
      "provenance": []
    },
    "kernelspec": {
      "display_name": "Python 3",
      "name": "python3"
    },
    "language_info": {
      "name": "python"
    }
  },
  "nbformat": 4,
  "nbformat_minor": 0
}
